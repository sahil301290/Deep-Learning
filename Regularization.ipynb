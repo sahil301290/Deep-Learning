{
  "nbformat": 4,
  "nbformat_minor": 0,
  "metadata": {
    "colab": {
      "name": "Regularization.ipynb",
      "provenance": [],
      "authorship_tag": "ABX9TyM8rdkSjmsvFKB3YwdkK/Kg",
      "include_colab_link": true
    },
    "kernelspec": {
      "name": "python3",
      "display_name": "Python 3"
    },
    "language_info": {
      "name": "python"
    }
  },
  "cells": [
    {
      "cell_type": "markdown",
      "metadata": {
        "id": "view-in-github",
        "colab_type": "text"
      },
      "source": [
        "<a href=\"https://colab.research.google.com/github/sahil301290/Deep-Learning/blob/master/Regularization.ipynb\" target=\"_parent\"><img src=\"https://colab.research.google.com/assets/colab-badge.svg\" alt=\"Open In Colab\"/></a>"
      ]
    },
    {
      "cell_type": "markdown",
      "metadata": {
        "id": "hawNyB2Liarj"
      },
      "source": [
        "Least Square Error based Linear Regression"
      ]
    },
    {
      "cell_type": "code",
      "metadata": {
        "id": "TJYiozwagqkt",
        "colab": {
          "base_uri": "https://localhost:8080/",
          "height": 201
        },
        "outputId": "3dae7f7a-b61a-4d10-b2c5-dfefe255b736"
      },
      "source": [
        "import pandas as pd\n",
        "from sklearn.datasets import load_boston\n",
        "boston = load_boston()\n",
        "df = pd.DataFrame(data=boston.data, columns = ['CRIM', 'ZN', 'INDUS', 'CHAS', 'NOX', 'RM', 'AGE', 'DIS', 'RAD',\n",
        "        'TAX', 'PTRATIO', 'B', 'LSTAT'])\n",
        "df['target'] = boston.target\n",
        "df.head(5)"
      ],
      "execution_count": null,
      "outputs": [
        {
          "output_type": "execute_result",
          "data": {
            "text/html": [
              "<div>\n",
              "<style scoped>\n",
              "    .dataframe tbody tr th:only-of-type {\n",
              "        vertical-align: middle;\n",
              "    }\n",
              "\n",
              "    .dataframe tbody tr th {\n",
              "        vertical-align: top;\n",
              "    }\n",
              "\n",
              "    .dataframe thead th {\n",
              "        text-align: right;\n",
              "    }\n",
              "</style>\n",
              "<table border=\"1\" class=\"dataframe\">\n",
              "  <thead>\n",
              "    <tr style=\"text-align: right;\">\n",
              "      <th></th>\n",
              "      <th>CRIM</th>\n",
              "      <th>ZN</th>\n",
              "      <th>INDUS</th>\n",
              "      <th>CHAS</th>\n",
              "      <th>NOX</th>\n",
              "      <th>RM</th>\n",
              "      <th>AGE</th>\n",
              "      <th>DIS</th>\n",
              "      <th>RAD</th>\n",
              "      <th>TAX</th>\n",
              "      <th>PTRATIO</th>\n",
              "      <th>B</th>\n",
              "      <th>LSTAT</th>\n",
              "      <th>target</th>\n",
              "    </tr>\n",
              "  </thead>\n",
              "  <tbody>\n",
              "    <tr>\n",
              "      <th>0</th>\n",
              "      <td>0.00632</td>\n",
              "      <td>18.0</td>\n",
              "      <td>2.31</td>\n",
              "      <td>0.0</td>\n",
              "      <td>0.538</td>\n",
              "      <td>6.575</td>\n",
              "      <td>65.2</td>\n",
              "      <td>4.0900</td>\n",
              "      <td>1.0</td>\n",
              "      <td>296.0</td>\n",
              "      <td>15.3</td>\n",
              "      <td>396.90</td>\n",
              "      <td>4.98</td>\n",
              "      <td>24.0</td>\n",
              "    </tr>\n",
              "    <tr>\n",
              "      <th>1</th>\n",
              "      <td>0.02731</td>\n",
              "      <td>0.0</td>\n",
              "      <td>7.07</td>\n",
              "      <td>0.0</td>\n",
              "      <td>0.469</td>\n",
              "      <td>6.421</td>\n",
              "      <td>78.9</td>\n",
              "      <td>4.9671</td>\n",
              "      <td>2.0</td>\n",
              "      <td>242.0</td>\n",
              "      <td>17.8</td>\n",
              "      <td>396.90</td>\n",
              "      <td>9.14</td>\n",
              "      <td>21.6</td>\n",
              "    </tr>\n",
              "    <tr>\n",
              "      <th>2</th>\n",
              "      <td>0.02729</td>\n",
              "      <td>0.0</td>\n",
              "      <td>7.07</td>\n",
              "      <td>0.0</td>\n",
              "      <td>0.469</td>\n",
              "      <td>7.185</td>\n",
              "      <td>61.1</td>\n",
              "      <td>4.9671</td>\n",
              "      <td>2.0</td>\n",
              "      <td>242.0</td>\n",
              "      <td>17.8</td>\n",
              "      <td>392.83</td>\n",
              "      <td>4.03</td>\n",
              "      <td>34.7</td>\n",
              "    </tr>\n",
              "    <tr>\n",
              "      <th>3</th>\n",
              "      <td>0.03237</td>\n",
              "      <td>0.0</td>\n",
              "      <td>2.18</td>\n",
              "      <td>0.0</td>\n",
              "      <td>0.458</td>\n",
              "      <td>6.998</td>\n",
              "      <td>45.8</td>\n",
              "      <td>6.0622</td>\n",
              "      <td>3.0</td>\n",
              "      <td>222.0</td>\n",
              "      <td>18.7</td>\n",
              "      <td>394.63</td>\n",
              "      <td>2.94</td>\n",
              "      <td>33.4</td>\n",
              "    </tr>\n",
              "    <tr>\n",
              "      <th>4</th>\n",
              "      <td>0.06905</td>\n",
              "      <td>0.0</td>\n",
              "      <td>2.18</td>\n",
              "      <td>0.0</td>\n",
              "      <td>0.458</td>\n",
              "      <td>7.147</td>\n",
              "      <td>54.2</td>\n",
              "      <td>6.0622</td>\n",
              "      <td>3.0</td>\n",
              "      <td>222.0</td>\n",
              "      <td>18.7</td>\n",
              "      <td>396.90</td>\n",
              "      <td>5.33</td>\n",
              "      <td>36.2</td>\n",
              "    </tr>\n",
              "  </tbody>\n",
              "</table>\n",
              "</div>"
            ],
            "text/plain": [
              "      CRIM    ZN  INDUS  CHAS    NOX  ...    TAX  PTRATIO       B  LSTAT  target\n",
              "0  0.00632  18.0   2.31   0.0  0.538  ...  296.0     15.3  396.90   4.98    24.0\n",
              "1  0.02731   0.0   7.07   0.0  0.469  ...  242.0     17.8  396.90   9.14    21.6\n",
              "2  0.02729   0.0   7.07   0.0  0.469  ...  242.0     17.8  392.83   4.03    34.7\n",
              "3  0.03237   0.0   2.18   0.0  0.458  ...  222.0     18.7  394.63   2.94    33.4\n",
              "4  0.06905   0.0   2.18   0.0  0.458  ...  222.0     18.7  396.90   5.33    36.2\n",
              "\n",
              "[5 rows x 14 columns]"
            ]
          },
          "metadata": {
            "tags": []
          },
          "execution_count": 1
        }
      ]
    },
    {
      "cell_type": "code",
      "metadata": {
        "colab": {
          "base_uri": "https://localhost:8080/",
          "height": 385
        },
        "id": "JyG6K19lh4Rn",
        "outputId": "c110dcf2-6123-45a6-fca7-feb2771d9e4e"
      },
      "source": [
        "import missingno as ms\n",
        "ms.bar(df)"
      ],
      "execution_count": null,
      "outputs": [
        {
          "output_type": "execute_result",
          "data": {
            "text/plain": [
              "<matplotlib.axes._subplots.AxesSubplot at 0x7fc500e72e50>"
            ]
          },
          "metadata": {
            "tags": []
          },
          "execution_count": 2
        },
        {
          "output_type": "display_data",
          "data": {
            "image/png": "[encoded data removed]",
            "text/plain": [
              "<Figure size 1728x720 with 3 Axes>"
            ]
          },
          "metadata": {
            "tags": [],
            "needs_background": "light"
          }
        }
      ]
    },
    {
      "cell_type": "code",
      "metadata": {
        "colab": {
          "base_uri": "https://localhost:8080/",
          "height": 318
        },
        "id": "PMr0b2cdh9Vx",
        "outputId": "eeabd2e1-f42f-4304-9979-886e88bf792a"
      },
      "source": [
        "import seaborn as sns\n",
        "sns.heatmap(df.iloc[:,0:13].corr(),annot=True)"
      ],
      "execution_count": null,
      "outputs": [
        {
          "output_type": "execute_result",
          "data": {
            "text/plain": [
              "<matplotlib.axes._subplots.AxesSubplot at 0x7fc501191790>"
            ]
          },
          "metadata": {
            "tags": []
          },
          "execution_count": 3
        },
        {
          "output_type": "display_data",
          "data": {
            "image/png": "[encoded data removed]",
            "text/plain": [
              "<Figure size 432x288 with 2 Axes>"
            ]
          },
          "metadata": {
            "tags": [],
            "needs_background": "light"
          }
        }
      ]
    },
    {
      "cell_type": "code",
      "metadata": {
        "id": "ZHw-X5x5h_AZ"
      },
      "source": [
        "import numpy as np\n",
        "X=df.iloc[:,0:13]\n",
        "Y=df.iloc[:,13]\n",
        "Y=np.array(Y)\n",
        "Y=Y.reshape(-1,1)"
      ],
      "execution_count": null,
      "outputs": []
    },
    {
      "cell_type": "code",
      "metadata": {
        "id": "fCD-k-msiArA"
      },
      "source": [
        "from sklearn.preprocessing import StandardScaler\n",
        "scaler=StandardScaler()\n",
        "X_scaled=scaler.fit_transform(X)\n",
        "X_scaled= np.insert(X_scaled, 0, values=1, axis=1)"
      ],
      "execution_count": null,
      "outputs": []
    },
    {
      "cell_type": "code",
      "metadata": {
        "colab": {
          "base_uri": "https://localhost:8080/"
        },
        "id": "lHd1qtyIiCXw",
        "outputId": "8ace1004-043c-4249-a9d0-019ddb32fdca"
      },
      "source": [
        "X_scaled"
      ],
      "execution_count": null,
      "outputs": [
        {
          "output_type": "execute_result",
          "data": {
            "text/plain": [
              "array([[ 1.        , -0.41978194,  0.28482986, ..., -1.45900038,\n",
              "         0.44105193, -1.0755623 ],\n",
              "       [ 1.        , -0.41733926, -0.48772236, ..., -0.30309415,\n",
              "         0.44105193, -0.49243937],\n",
              "       [ 1.        , -0.41734159, -0.48772236, ..., -0.30309415,\n",
              "         0.39642699, -1.2087274 ],\n",
              "       ...,\n",
              "       [ 1.        , -0.41344658, -0.48772236, ...,  1.17646583,\n",
              "         0.44105193, -0.98304761],\n",
              "       [ 1.        , -0.40776407, -0.48772236, ...,  1.17646583,\n",
              "         0.4032249 , -0.86530163],\n",
              "       [ 1.        , -0.41500016, -0.48772236, ...,  1.17646583,\n",
              "         0.44105193, -0.66905833]])"
            ]
          },
          "metadata": {
            "tags": []
          },
          "execution_count": 6
        }
      ]
    },
    {
      "cell_type": "code",
      "metadata": {
        "id": "YsnzE0PhiEJl"
      },
      "source": [
        "from sklearn.model_selection import train_test_split\n",
        "X_train, X_test, y_train, y_test = train_test_split(X_scaled, Y, test_size=0.3, random_state=42)"
      ],
      "execution_count": null,
      "outputs": []
    },
    {
      "cell_type": "code",
      "metadata": {
        "colab": {
          "base_uri": "https://localhost:8080/"
        },
        "id": "IjPGrAXMiG3d",
        "outputId": "30a366b0-9bec-42e4-8f8f-78e0608761f2"
      },
      "source": [
        "print(X_train.shape)\n",
        "print(X_test.shape)\n",
        "print(y_train.shape)\n",
        "print(y_test.shape)"
      ],
      "execution_count": null,
      "outputs": [
        {
          "output_type": "stream",
          "text": [
            "(354, 14)\n",
            "(152, 14)\n",
            "(354, 1)\n",
            "(152, 1)\n"
          ],
          "name": "stdout"
        }
      ]
    },
    {
      "cell_type": "code",
      "metadata": {
        "colab": {
          "base_uri": "https://localhost:8080/"
        },
        "id": "fUox5x4FiIOx",
        "outputId": "1a1eac58-ae75-4261-aa09-c209b35a3a1b"
      },
      "source": [
        "A=X_train.T.dot(X_train)\n",
        "B=np.linalg.inv(A)\n",
        "C=B.dot(X_train.T)\n",
        "beta=C.dot(y_train)\n",
        "print(beta)"
      ],
      "execution_count": null,
      "outputs": [
        {
          "output_type": "stream",
          "text": [
            "[[22.50945471]\n",
            " [-1.14691411]\n",
            " [ 0.83432605]\n",
            " [ 0.33940694]\n",
            " [ 0.79163612]\n",
            " [-1.784727  ]\n",
            " [ 2.84783949]\n",
            " [-0.30429306]\n",
            " [-2.91562521]\n",
            " [ 2.11140045]\n",
            " [-1.46519951]\n",
            " [-1.9696347 ]\n",
            " [ 1.07567771]\n",
            " [-3.90310727]]\n"
          ],
          "name": "stdout"
        }
      ]
    },
    {
      "cell_type": "code",
      "metadata": {
        "colab": {
          "base_uri": "https://localhost:8080/"
        },
        "id": "uBh8ErIwiKJ6",
        "outputId": "eedbc6bf-6e5c-4a99-e79b-c72b4f726e52"
      },
      "source": [
        "y_predict=X_test.dot(beta)\n",
        "print(y_predict)\n",
        "#print(len(y_predict))"
      ],
      "execution_count": null,
      "outputs": [
        {
          "output_type": "stream",
          "text": [
            "[[28.64896005]\n",
            " [36.49501384]\n",
            " [15.4111932 ]\n",
            " [25.40321303]\n",
            " [18.85527988]\n",
            " [23.14668944]\n",
            " [17.3921241 ]\n",
            " [14.07859899]\n",
            " [23.03692679]\n",
            " [20.59943345]\n",
            " [24.82286159]\n",
            " [18.53057049]\n",
            " [-6.86543527]\n",
            " [21.80172334]\n",
            " [19.22571177]\n",
            " [26.19191985]\n",
            " [20.27733882]\n",
            " [ 5.61596432]\n",
            " [40.44887974]\n",
            " [17.57695918]\n",
            " [27.44319095]\n",
            " [30.1715964 ]\n",
            " [10.94055823]\n",
            " [24.02083139]\n",
            " [18.07693812]\n",
            " [15.934748  ]\n",
            " [23.12614028]\n",
            " [14.56052142]\n",
            " [22.33482544]\n",
            " [19.3257627 ]\n",
            " [22.16564973]\n",
            " [25.19476081]\n",
            " [25.31372473]\n",
            " [18.51345025]\n",
            " [16.6223286 ]\n",
            " [17.50268505]\n",
            " [30.94992991]\n",
            " [20.19201752]\n",
            " [23.90440431]\n",
            " [24.86975466]\n",
            " [13.93767876]\n",
            " [31.82504715]\n",
            " [42.56978796]\n",
            " [17.62323805]\n",
            " [27.01963242]\n",
            " [17.19006621]\n",
            " [13.80594006]\n",
            " [26.10356557]\n",
            " [20.31516118]\n",
            " [30.08649576]\n",
            " [21.3124053 ]\n",
            " [34.15739602]\n",
            " [15.60444981]\n",
            " [26.11247588]\n",
            " [39.31613646]\n",
            " [22.99282065]\n",
            " [18.95764781]\n",
            " [33.05555669]\n",
            " [24.85114223]\n",
            " [12.91729352]\n",
            " [22.68101452]\n",
            " [30.80336295]\n",
            " [31.63522027]\n",
            " [16.29833689]\n",
            " [21.07379993]\n",
            " [16.57699669]\n",
            " [20.36362023]\n",
            " [26.15615896]\n",
            " [31.06833034]\n",
            " [11.98679953]\n",
            " [20.42550472]\n",
            " [27.55676301]\n",
            " [10.94316981]\n",
            " [16.82660609]\n",
            " [23.92909733]\n",
            " [ 5.28065815]\n",
            " [21.43504661]\n",
            " [41.33684993]\n",
            " [18.22211675]\n",
            " [ 9.48269245]\n",
            " [21.19857446]\n",
            " [12.95001331]\n",
            " [21.64822797]\n",
            " [ 9.3845568 ]\n",
            " [23.06060014]\n",
            " [31.95762512]\n",
            " [19.16662892]\n",
            " [25.59942257]\n",
            " [29.35043558]\n",
            " [20.13138581]\n",
            " [25.57297369]\n",
            " [ 5.42970803]\n",
            " [20.23169356]\n",
            " [15.1949595 ]\n",
            " [14.03241742]\n",
            " [20.91078077]\n",
            " [24.82249135]\n",
            " [-0.47712079]\n",
            " [13.70520524]\n",
            " [15.69525576]\n",
            " [22.06972676]\n",
            " [24.64152943]\n",
            " [10.7382866 ]\n",
            " [19.68622564]\n",
            " [23.63678009]\n",
            " [12.07974981]\n",
            " [18.47894211]\n",
            " [25.52713393]\n",
            " [20.93461307]\n",
            " [24.6955941 ]\n",
            " [ 7.59054562]\n",
            " [19.01046053]\n",
            " [21.9444339 ]\n",
            " [27.22319977]\n",
            " [32.18608828]\n",
            " [15.27826455]\n",
            " [34.39190421]\n",
            " [12.96314168]\n",
            " [21.01681316]\n",
            " [28.57880911]\n",
            " [15.86300844]\n",
            " [24.85124135]\n",
            " [ 3.37937111]\n",
            " [23.90465773]\n",
            " [25.81792146]\n",
            " [23.11020547]\n",
            " [25.33489201]\n",
            " [33.35545176]\n",
            " [20.60724498]\n",
            " [38.4772665 ]\n",
            " [13.97398533]\n",
            " [25.21923987]\n",
            " [17.80946626]\n",
            " [20.63437371]\n",
            " [ 9.80267398]\n",
            " [21.07953576]\n",
            " [22.3378417 ]\n",
            " [32.32381854]\n",
            " [31.48694863]\n",
            " [15.46621287]\n",
            " [16.86242766]\n",
            " [28.99330526]\n",
            " [24.95467894]\n",
            " [16.73633557]\n",
            " [ 6.12858395]\n",
            " [26.65990044]\n",
            " [23.34007187]\n",
            " [17.40367164]\n",
            " [13.38594123]\n",
            " [39.98342478]\n",
            " [16.68286302]\n",
            " [18.28561759]]\n"
          ],
          "name": "stdout"
        }
      ]
    },
    {
      "cell_type": "code",
      "metadata": {
        "colab": {
          "base_uri": "https://localhost:8080/"
        },
        "id": "h37CiEIOiMJj",
        "outputId": "014d9397-a566-43db-e061-dbd278f17658"
      },
      "source": [
        "error=y_test-y_predict\n",
        "square_error=np.power(error,2)\n",
        "sum_square_error=np.sum(square_error)\n",
        "mean_square_error=sum_square_error/len(y_predict)\n",
        "print(mean_square_error)"
      ],
      "execution_count": null,
      "outputs": [
        {
          "output_type": "stream",
          "text": [
            "21.51744423117728\n"
          ],
          "name": "stdout"
        }
      ]
    },
    {
      "cell_type": "code",
      "metadata": {
        "colab": {
          "base_uri": "https://localhost:8080/"
        },
        "id": "CbXHXpGriPG6",
        "outputId": "e7139aef-e531-409e-d0e3-d101e9725e22"
      },
      "source": [
        "rms_error=np.sqrt(mean_square_error)\n",
        "print(rms_error)"
      ],
      "execution_count": null,
      "outputs": [
        {
          "output_type": "stream",
          "text": [
            "4.6386899261728285\n"
          ],
          "name": "stdout"
        }
      ]
    },
    {
      "cell_type": "code",
      "metadata": {
        "colab": {
          "base_uri": "https://localhost:8080/"
        },
        "id": "V6qoex8siQ0x",
        "outputId": "bdc08dec-2b86-44ac-8d10-4882a76dba8b"
      },
      "source": [
        "y_mean=np.mean(y_test)\n",
        "total_variance=np.sum((y_test-y_mean)**2)\n",
        "r_square = 1-sum_square_error/total_variance\n",
        "print(r_square)"
      ],
      "execution_count": null,
      "outputs": [
        {
          "output_type": "stream",
          "text": [
            "0.7112260057484923\n"
          ],
          "name": "stdout"
        }
      ]
    },
    {
      "cell_type": "markdown",
      "metadata": {
        "id": "1cPawLtJigdJ"
      },
      "source": [
        "Ridge Regression OR L2 Regularization"
      ]
    },
    {
      "cell_type": "code",
      "metadata": {
        "id": "lQHcLwKeiSfg"
      },
      "source": [
        "from sklearn.linear_model import Ridge\n",
        "#help(sklearn)"
      ],
      "execution_count": null,
      "outputs": []
    },
    {
      "cell_type": "code",
      "metadata": {
        "colab": {
          "base_uri": "https://localhost:8080/"
        },
        "id": "navxLu3yiv06",
        "outputId": "f9c47876-3526-40db-b024-4ea3fd483686"
      },
      "source": [
        "ridge_model = Ridge(alpha=5)\n",
        "ridge_model.fit(X_train, y_train)"
      ],
      "execution_count": null,
      "outputs": [
        {
          "output_type": "execute_result",
          "data": {
            "text/plain": [
              "Ridge(alpha=5, copy_X=True, fit_intercept=True, max_iter=None, normalize=False,\n",
              "      random_state=None, solver='auto', tol=0.001)"
            ]
          },
          "metadata": {
            "tags": []
          },
          "execution_count": 33
        }
      ]
    },
    {
      "cell_type": "code",
      "metadata": {
        "id": "xBgXms87i9W2"
      },
      "source": [
        "test_predictions = ridge_model.predict(X_test)"
      ],
      "execution_count": null,
      "outputs": []
    },
    {
      "cell_type": "code",
      "metadata": {
        "id": "GtrSI-2djDdr"
      },
      "source": [
        "from sklearn.metrics import mean_absolute_error, mean_squared_error"
      ],
      "execution_count": null,
      "outputs": []
    },
    {
      "cell_type": "code",
      "metadata": {
        "id": "HlbHTX_YjJiy"
      },
      "source": [
        "MAE = mean_absolute_error(y_test, test_predictions)"
      ],
      "execution_count": null,
      "outputs": []
    },
    {
      "cell_type": "code",
      "metadata": {
        "id": "UHxFEr6P8PxF"
      },
      "source": [
        "MSE = mean_squared_error(y_test, test_predictions)\n",
        "RMSE = np.sqrt(MSE)"
      ],
      "execution_count": null,
      "outputs": []
    },
    {
      "cell_type": "code",
      "metadata": {
        "id": "EzDnzyIj8ic7",
        "colab": {
          "base_uri": "https://localhost:8080/"
        },
        "outputId": "e7018d06-150e-49af-dc7c-5371ff355d5e"
      },
      "source": [
        "print(MAE)\n",
        "print(MSE)\n",
        "print(RMSE)"
      ],
      "execution_count": null,
      "outputs": [
        {
          "output_type": "stream",
          "text": [
            "3.154483486128104\n",
            "21.66898820096513\n",
            "4.654996047362998\n"
          ],
          "name": "stdout"
        }
      ]
    },
    {
      "cell_type": "markdown",
      "metadata": {
        "id": "Jaql1iu486Hs"
      },
      "source": [
        "Ridge Regression using cross validation"
      ]
    },
    {
      "cell_type": "code",
      "metadata": {
        "id": "uQzzvwec8wOJ"
      },
      "source": [
        "from sklearn.linear_model import RidgeCV"
      ],
      "execution_count": null,
      "outputs": []
    },
    {
      "cell_type": "code",
      "metadata": {
        "id": "N0Z9-4v5-dYQ"
      },
      "source": [
        "ridge_cv_model = RidgeCV(alphas = (0.1, 1.0, 10.0),scoring = 'neg_mean_absolute_error')"
      ],
      "execution_count": null,
      "outputs": []
    },
    {
      "cell_type": "code",
      "metadata": {
        "colab": {
          "base_uri": "https://localhost:8080/"
        },
        "id": "zzasOatL-tQI",
        "outputId": "c1bedb37-1a33-4e89-9c75-44546f3b73eb"
      },
      "source": [
        "ridge_cv_model.fit(X_train, y_train)"
      ],
      "execution_count": null,
      "outputs": [
        {
          "output_type": "execute_result",
          "data": {
            "text/plain": [
              "RidgeCV(alphas=array([ 0.1,  1. , 10. ]), cv=None, fit_intercept=True,\n",
              "        gcv_mode=None, normalize=False, scoring='neg_mean_absolute_error',\n",
              "        store_cv_values=False)"
            ]
          },
          "metadata": {
            "tags": []
          },
          "execution_count": 28
        }
      ]
    },
    {
      "cell_type": "code",
      "metadata": {
        "colab": {
          "base_uri": "https://localhost:8080/"
        },
        "id": "4f0HyYwY-zwn",
        "outputId": "92bec483-7bfc-40e5-fe11-32e538727af1"
      },
      "source": [
        "ridge_cv_model.alpha_"
      ],
      "execution_count": null,
      "outputs": [
        {
          "output_type": "execute_result",
          "data": {
            "text/plain": [
              "10.0"
            ]
          },
          "metadata": {
            "tags": []
          },
          "execution_count": 29
        }
      ]
    },
    {
      "cell_type": "code",
      "metadata": {
        "colab": {
          "base_uri": "https://localhost:8080/"
        },
        "id": "8h8n3-Mp-5VO",
        "outputId": "0c680ba4-2658-46b0-984e-1f212a6368eb"
      },
      "source": [
        "from sklearn.metrics import SCORERS\n",
        "SCORERS.keys()"
      ],
      "execution_count": null,
      "outputs": [
        {
          "output_type": "execute_result",
          "data": {
            "text/plain": [
              "dict_keys(['explained_variance', 'r2', 'max_error', 'neg_median_absolute_error', 'neg_mean_absolute_error', 'neg_mean_squared_error', 'neg_mean_squared_log_error', 'neg_root_mean_squared_error', 'neg_mean_poisson_deviance', 'neg_mean_gamma_deviance', 'accuracy', 'roc_auc', 'roc_auc_ovr', 'roc_auc_ovo', 'roc_auc_ovr_weighted', 'roc_auc_ovo_weighted', 'balanced_accuracy', 'average_precision', 'neg_log_loss', 'neg_brier_score', 'adjusted_rand_score', 'homogeneity_score', 'completeness_score', 'v_measure_score', 'mutual_info_score', 'adjusted_mutual_info_score', 'normalized_mutual_info_score', 'fowlkes_mallows_score', 'precision', 'precision_macro', 'precision_micro', 'precision_samples', 'precision_weighted', 'recall', 'recall_macro', 'recall_micro', 'recall_samples', 'recall_weighted', 'f1', 'f1_macro', 'f1_micro', 'f1_samples', 'f1_weighted', 'jaccard', 'jaccard_macro', 'jaccard_micro', 'jaccard_samples', 'jaccard_weighted'])"
            ]
          },
          "metadata": {
            "tags": []
          },
          "execution_count": 30
        }
      ]
    },
    {
      "cell_type": "code",
      "metadata": {
        "id": "3Zr3-nfw_Fzv"
      },
      "source": [
        "test_predictions = ridge_cv_model.predict(X_test)"
      ],
      "execution_count": null,
      "outputs": []
    },
    {
      "cell_type": "code",
      "metadata": {
        "colab": {
          "base_uri": "https://localhost:8080/"
        },
        "id": "-BNRuARtAHPC",
        "outputId": "e60a2790-eae0-46b2-9dbe-6167ce93f07d"
      },
      "source": [
        "MAE = mean_absolute_error(y_test, test_predictions)\n",
        "MSE = mean_squared_error(y_test, test_predictions)\n",
        "RMSE = np.sqrt(MSE)\n",
        "print(MSE)"
      ],
      "execution_count": null,
      "outputs": [
        {
          "output_type": "stream",
          "text": [
            "21.80735050422571\n"
          ],
          "name": "stdout"
        }
      ]
    },
    {
      "cell_type": "code",
      "metadata": {
        "colab": {
          "base_uri": "https://localhost:8080/"
        },
        "id": "FLKWtZ4mAQwG",
        "outputId": "b7869036-6d1f-4718-87f0-577577bdad08"
      },
      "source": [
        "ridge_cv_model.coef_"
      ],
      "execution_count": null,
      "outputs": [
        {
          "output_type": "execute_result",
          "data": {
            "text/plain": [
              "array([[ 0.        , -1.04040626,  0.66864277,  0.12846482,  0.83388741,\n",
              "        -1.49067193,  2.89287727, -0.32262973, -2.57086271,  1.49677766,\n",
              "        -0.95530252, -1.88328338,  1.04572559, -3.759766  ]])"
            ]
          },
          "metadata": {
            "tags": []
          },
          "execution_count": 52
        }
      ]
    },
    {
      "cell_type": "markdown",
      "metadata": {
        "id": "u7QVa5YaAtTI"
      },
      "source": [
        "LASSO - Least Absolute Shrinkage and Selection Operator"
      ]
    },
    {
      "cell_type": "code",
      "metadata": {
        "id": "21-MrTFgAgTJ"
      },
      "source": [
        "from sklearn.linear_model import LassoCV"
      ],
      "execution_count": null,
      "outputs": []
    },
    {
      "cell_type": "code",
      "metadata": {
        "id": "beb6bZn7A1B-"
      },
      "source": [
        "lasso_cv_model = LassoCV(eps=0.1, n_alphas=100, cv = 5, max_iter=1000)"
      ],
      "execution_count": null,
      "outputs": []
    },
    {
      "cell_type": "code",
      "metadata": {
        "colab": {
          "base_uri": "https://localhost:8080/"
        },
        "id": "9MNb8fBPBXdm",
        "outputId": "c3017605-fdc9-4649-bc8d-c9de450a9ee0"
      },
      "source": [
        "lasso_cv_model.fit(X_train, y_train)"
      ],
      "execution_count": null,
      "outputs": [
        {
          "output_type": "stream",
          "text": [
            "/usr/local/lib/python3.7/dist-packages/sklearn/linear_model/_coordinate_descent.py:1088: DataConversionWarning: A column-vector y was passed when a 1d array was expected. Please change the shape of y to (n_samples, ), for example using ravel().\n",
            "  y = column_or_1d(y, warn=True)\n"
          ],
          "name": "stderr"
        },
        {
          "output_type": "execute_result",
          "data": {
            "text/plain": [
              "LassoCV(alphas=None, copy_X=True, cv=5, eps=0.1, fit_intercept=True,\n",
              "        max_iter=1000, n_alphas=100, n_jobs=None, normalize=False,\n",
              "        positive=False, precompute='auto', random_state=None,\n",
              "        selection='cyclic', tol=0.0001, verbose=False)"
            ]
          },
          "metadata": {
            "tags": []
          },
          "execution_count": 50
        }
      ]
    },
    {
      "cell_type": "code",
      "metadata": {
        "id": "aFNiw5xZBdPv"
      },
      "source": [
        "test_predictions = lasso_cv_model.predict(X_test)"
      ],
      "execution_count": null,
      "outputs": []
    },
    {
      "cell_type": "code",
      "metadata": {
        "colab": {
          "base_uri": "https://localhost:8080/"
        },
        "id": "AYyIicaWB3ey",
        "outputId": "d5680b01-57bb-425a-e03a-90c2e05e390b"
      },
      "source": [
        "MAE = mean_absolute_error(y_test, test_predictions)\n",
        "MSE = mean_squared_error(y_test, test_predictions)\n",
        "RMSE = np.sqrt(MSE)\n",
        "print(MSE)"
      ],
      "execution_count": null,
      "outputs": [
        {
          "output_type": "stream",
          "text": [
            "25.777713740899806\n"
          ],
          "name": "stdout"
        }
      ]
    },
    {
      "cell_type": "code",
      "metadata": {
        "colab": {
          "base_uri": "https://localhost:8080/"
        },
        "id": "POMa4VHwB7L8",
        "outputId": "aa78f7e3-2d2d-43d0-eb5c-5e320dd8b19c"
      },
      "source": [
        "lasso_cv_model.coef_"
      ],
      "execution_count": null,
      "outputs": [
        {
          "output_type": "execute_result",
          "data": {
            "text/plain": [
              "array([ 0.        , -0.12635295,  0.        , -0.        ,  0.47671033,\n",
              "       -0.        ,  2.84044085, -0.        , -0.        , -0.        ,\n",
              "       -0.        , -1.37514121,  0.44851197, -3.76557211])"
            ]
          },
          "metadata": {
            "tags": []
          },
          "execution_count": 53
        }
      ]
    },
    {
      "cell_type": "code",
      "metadata": {
        "id": "ASh3_IQ1CZ6s"
      },
      "source": [
        ""
      ],
      "execution_count": null,
      "outputs": []
    }
  ]
}