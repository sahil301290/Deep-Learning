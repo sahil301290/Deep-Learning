{
  "cells": [
    {
      "cell_type": "markdown",
      "metadata": {
        "id": "view-in-github",
        "colab_type": "text"
      },
      "source": [
        "<a href=\"https://colab.research.google.com/github/sahil301290/Deep-Learning/blob/master/RoBERTa_news_sentiments.ipynb\" target=\"_parent\"><img src=\"https://colab.research.google.com/assets/colab-badge.svg\" alt=\"Open In Colab\"/></a>"
      ]
    },
    {
      "cell_type": "markdown",
      "metadata": {
        "id": "O7l-2cighx_P"
      },
      "source": [
        "### **Import the required libraries**"
      ]
    },
    {
      "cell_type": "code",
      "execution_count": 1,
      "metadata": {
        "execution": {
          "iopub.execute_input": "2022-05-19T16:34:04.235615Z",
          "iopub.status.busy": "2022-05-19T16:34:04.235277Z",
          "iopub.status.idle": "2022-05-19T16:34:12.032819Z",
          "shell.execute_reply": "2022-05-19T16:34:12.032141Z",
          "shell.execute_reply.started": "2022-05-19T16:34:04.235527Z"
        },
        "id": "I3OzRx8-jAex",
        "outputId": "454be440-e8fd-4204-eb23-7ad9d47ddfca",
        "colab": {
          "base_uri": "https://localhost:8080/"
        }
      },
      "outputs": [
        {
          "output_type": "stream",
          "name": "stdout",
          "text": [
            "Requirement already satisfied: transformers in /usr/local/lib/python3.7/dist-packages (4.19.2)\n",
            "Requirement already satisfied: tokenizers!=0.11.3,<0.13,>=0.11.1 in /usr/local/lib/python3.7/dist-packages (from transformers) (0.12.1)\n",
            "Requirement already satisfied: pyyaml>=5.1 in /usr/local/lib/python3.7/dist-packages (from transformers) (6.0)\n",
            "Requirement already satisfied: filelock in /usr/local/lib/python3.7/dist-packages (from transformers) (3.7.0)\n",
            "Requirement already satisfied: requests in /usr/local/lib/python3.7/dist-packages (from transformers) (2.23.0)\n",
            "Requirement already satisfied: regex!=2019.12.17 in /usr/local/lib/python3.7/dist-packages (from transformers) (2019.12.20)\n",
            "Requirement already satisfied: numpy>=1.17 in /usr/local/lib/python3.7/dist-packages (from transformers) (1.21.6)\n",
            "Requirement already satisfied: huggingface-hub<1.0,>=0.1.0 in /usr/local/lib/python3.7/dist-packages (from transformers) (0.6.0)\n",
            "Requirement already satisfied: packaging>=20.0 in /usr/local/lib/python3.7/dist-packages (from transformers) (21.3)\n",
            "Requirement already satisfied: tqdm>=4.27 in /usr/local/lib/python3.7/dist-packages (from transformers) (4.64.0)\n",
            "Requirement already satisfied: importlib-metadata in /usr/local/lib/python3.7/dist-packages (from transformers) (4.11.3)\n",
            "Requirement already satisfied: typing-extensions>=3.7.4.3 in /usr/local/lib/python3.7/dist-packages (from huggingface-hub<1.0,>=0.1.0->transformers) (4.2.0)\n",
            "Requirement already satisfied: pyparsing!=3.0.5,>=2.0.2 in /usr/local/lib/python3.7/dist-packages (from packaging>=20.0->transformers) (3.0.9)\n",
            "Requirement already satisfied: zipp>=0.5 in /usr/local/lib/python3.7/dist-packages (from importlib-metadata->transformers) (3.8.0)\n",
            "Requirement already satisfied: chardet<4,>=3.0.2 in /usr/local/lib/python3.7/dist-packages (from requests->transformers) (3.0.4)\n",
            "Requirement already satisfied: certifi>=2017.4.17 in /usr/local/lib/python3.7/dist-packages (from requests->transformers) (2021.10.8)\n",
            "Requirement already satisfied: urllib3!=1.25.0,!=1.25.1,<1.26,>=1.21.1 in /usr/local/lib/python3.7/dist-packages (from requests->transformers) (1.24.3)\n",
            "Requirement already satisfied: idna<3,>=2.5 in /usr/local/lib/python3.7/dist-packages (from requests->transformers) (2.10)\n"
          ]
        },
        {
          "output_type": "execute_result",
          "data": {
            "text/plain": [
              "<torch._C.Generator at 0x7fafa44a1b30>"
            ]
          },
          "metadata": {},
          "execution_count": 1
        }
      ],
      "source": [
        "#Import required libraries \n",
        "import pandas as pd\n",
        "import numpy as np\n",
        "import seaborn as sns\n",
        "from matplotlib import rc\n",
        "from pylab import rcParams\n",
        "import matplotlib.pyplot as plt\n",
        "from textwrap import wrap\n",
        "from collections import defaultdict\n",
        "from sklearn.model_selection import train_test_split\n",
        "from sklearn.metrics import confusion_matrix, classification_report\n",
        "from sklearn.metrics import precision_recall_curve,auc\n",
        "\n",
        "!pip install transformers\n",
        "import transformers\n",
        "from transformers import RobertaConfig, RobertaModel\n",
        "from transformers import BertModel, BertTokenizerFast\n",
        "from transformers import AdamW, get_linear_schedule_with_warmup\n",
        "\n",
        "import torch\n",
        "from torch import nn,optim\n",
        "from torch.utils.data import Dataset,DataLoader\n",
        "import torch.nn as nn  \n",
        "import torch.nn.functional as F  \n",
        "device=torch.device('cuda:0' if torch.cuda.is_available() else 'cpu');\n",
        "\n",
        "%matplotlib inline\n",
        "%config InlineBackend.figure_format='retina'\n",
        "\n",
        "sns.set(style='whitegrid',palette='muted',font_scale=1.2)\n",
        "color_palette=['#01BEFE','#FFDD00','#FF7D00','#FF006D','#ADFF02','#8F00FF']\n",
        "sns.set_palette(sns.color_palette(color_palette))\n",
        "\n",
        "rcParams['figure.figsize']= 12,6\n",
        "\n",
        "import warnings\n",
        "warnings.filterwarnings('ignore')\n",
        "\n",
        "seed=42\n",
        "np.random.seed(seed)\n",
        "torch.manual_seed(seed)"
      ]
    },
    {
      "cell_type": "code",
      "execution_count": 2,
      "metadata": {
        "execution": {
          "iopub.execute_input": "2022-05-19T16:35:11.019511Z",
          "iopub.status.busy": "2022-05-19T16:35:11.018966Z",
          "iopub.status.idle": "2022-05-19T16:35:11.726085Z",
          "shell.execute_reply": "2022-05-19T16:35:11.725306Z",
          "shell.execute_reply.started": "2022-05-19T16:35:11.019471Z"
        },
        "id": "LH_IW4EWIGBN",
        "outputId": "632cd091-64b0-4d19-9bf9-df1bc97987e5",
        "colab": {
          "base_uri": "https://localhost:8080/"
        }
      },
      "outputs": [
        {
          "output_type": "stream",
          "name": "stdout",
          "text": [
            "Fri May 20 03:48:39 2022       \n",
            "+-----------------------------------------------------------------------------+\n",
            "| NVIDIA-SMI 460.32.03    Driver Version: 460.32.03    CUDA Version: 11.2     |\n",
            "|-------------------------------+----------------------+----------------------+\n",
            "| GPU  Name        Persistence-M| Bus-Id        Disp.A | Volatile Uncorr. ECC |\n",
            "| Fan  Temp  Perf  Pwr:Usage/Cap|         Memory-Usage | GPU-Util  Compute M. |\n",
            "|                               |                      |               MIG M. |\n",
            "|===============================+======================+======================|\n",
            "|   0  Tesla T4            Off  | 00000000:00:04.0 Off |                    0 |\n",
            "| N/A   37C    P8    10W /  70W |      3MiB / 15109MiB |      0%      Default |\n",
            "|                               |                      |                  N/A |\n",
            "+-------------------------------+----------------------+----------------------+\n",
            "                                                                               \n",
            "+-----------------------------------------------------------------------------+\n",
            "| Processes:                                                                  |\n",
            "|  GPU   GI   CI        PID   Type   Process name                  GPU Memory |\n",
            "|        ID   ID                                                   Usage      |\n",
            "|=============================================================================|\n",
            "|  No running processes found                                                 |\n",
            "+-----------------------------------------------------------------------------+\n"
          ]
        }
      ],
      "source": [
        "!nvidia-smi"
      ]
    },
    {
      "cell_type": "code",
      "execution_count": 3,
      "metadata": {
        "execution": {
          "iopub.execute_input": "2022-05-19T16:35:36.732377Z",
          "iopub.status.busy": "2022-05-19T16:35:36.732092Z",
          "iopub.status.idle": "2022-05-19T16:35:36.775792Z",
          "shell.execute_reply": "2022-05-19T16:35:36.775178Z",
          "shell.execute_reply.started": "2022-05-19T16:35:36.732345Z"
        },
        "id": "abLuU7lVS3zQ",
        "outputId": "39a07c56-699f-492e-94e1-98d0a755cb26",
        "colab": {
          "base_uri": "https://localhost:8080/",
          "height": 354
        }
      },
      "outputs": [
        {
          "output_type": "execute_result",
          "data": {
            "text/plain": [
              "   Unnamed: 0  Unnamed: 0.1                       date      articleid  \\\n",
              "0           0             0  1991-11-14 00:00:00+00:00  wsj_398284048   \n",
              "1           1             1  1986-06-16 00:00:00+00:00  wsj_397959018   \n",
              "2           2             2  2001-05-24 00:00:00+00:00  wsj_398739166   \n",
              "3           3             3  1986-10-22 00:00:00+00:00  wsj_397957465   \n",
              "4           4             4  2005-12-08 00:00:00+00:00  wsj_399004010   \n",
              "\n",
              "                                            headline  compound_vader_score  \\\n",
              "0  Banking Bill Negotiators Set Compromise --- Pl...                0.2960   \n",
              "1  Manager's Journal: Sniffing Out Drug Abusers I...               -0.7003   \n",
              "2  Bank of Montreal, Royal Bank Profits Rose in 2...                0.4404   \n",
              "3               Battle Over Medical Costs Isn't Over               -0.3818   \n",
              "4     Dow Falls 45.95, Late GM Surge Stanches Losses               -0.4019   \n",
              "\n",
              "   sentiment_class  \n",
              "0                1  \n",
              "1                0  \n",
              "2                1  \n",
              "3                0  \n",
              "4                0  "
            ],
            "text/html": [
              "\n",
              "  <div id=\"df-e57f1b02-f34f-4f96-920a-4c58c8934ad4\">\n",
              "    <div class=\"colab-df-container\">\n",
              "      <div>\n",
              "<style scoped>\n",
              "    .dataframe tbody tr th:only-of-type {\n",
              "        vertical-align: middle;\n",
              "    }\n",
              "\n",
              "    .dataframe tbody tr th {\n",
              "        vertical-align: top;\n",
              "    }\n",
              "\n",
              "    .dataframe thead th {\n",
              "        text-align: right;\n",
              "    }\n",
              "</style>\n",
              "<table border=\"1\" class=\"dataframe\">\n",
              "  <thead>\n",
              "    <tr style=\"text-align: right;\">\n",
              "      <th></th>\n",
              "      <th>Unnamed: 0</th>\n",
              "      <th>Unnamed: 0.1</th>\n",
              "      <th>date</th>\n",
              "      <th>articleid</th>\n",
              "      <th>headline</th>\n",
              "      <th>compound_vader_score</th>\n",
              "      <th>sentiment_class</th>\n",
              "    </tr>\n",
              "  </thead>\n",
              "  <tbody>\n",
              "    <tr>\n",
              "      <th>0</th>\n",
              "      <td>0</td>\n",
              "      <td>0</td>\n",
              "      <td>1991-11-14 00:00:00+00:00</td>\n",
              "      <td>wsj_398284048</td>\n",
              "      <td>Banking Bill Negotiators Set Compromise --- Pl...</td>\n",
              "      <td>0.2960</td>\n",
              "      <td>1</td>\n",
              "    </tr>\n",
              "    <tr>\n",
              "      <th>1</th>\n",
              "      <td>1</td>\n",
              "      <td>1</td>\n",
              "      <td>1986-06-16 00:00:00+00:00</td>\n",
              "      <td>wsj_397959018</td>\n",
              "      <td>Manager's Journal: Sniffing Out Drug Abusers I...</td>\n",
              "      <td>-0.7003</td>\n",
              "      <td>0</td>\n",
              "    </tr>\n",
              "    <tr>\n",
              "      <th>2</th>\n",
              "      <td>2</td>\n",
              "      <td>2</td>\n",
              "      <td>2001-05-24 00:00:00+00:00</td>\n",
              "      <td>wsj_398739166</td>\n",
              "      <td>Bank of Montreal, Royal Bank Profits Rose in 2...</td>\n",
              "      <td>0.4404</td>\n",
              "      <td>1</td>\n",
              "    </tr>\n",
              "    <tr>\n",
              "      <th>3</th>\n",
              "      <td>3</td>\n",
              "      <td>3</td>\n",
              "      <td>1986-10-22 00:00:00+00:00</td>\n",
              "      <td>wsj_397957465</td>\n",
              "      <td>Battle Over Medical Costs Isn't Over</td>\n",
              "      <td>-0.3818</td>\n",
              "      <td>0</td>\n",
              "    </tr>\n",
              "    <tr>\n",
              "      <th>4</th>\n",
              "      <td>4</td>\n",
              "      <td>4</td>\n",
              "      <td>2005-12-08 00:00:00+00:00</td>\n",
              "      <td>wsj_399004010</td>\n",
              "      <td>Dow Falls 45.95, Late GM Surge Stanches Losses</td>\n",
              "      <td>-0.4019</td>\n",
              "      <td>0</td>\n",
              "    </tr>\n",
              "  </tbody>\n",
              "</table>\n",
              "</div>\n",
              "      <button class=\"colab-df-convert\" onclick=\"convertToInteractive('df-e57f1b02-f34f-4f96-920a-4c58c8934ad4')\"\n",
              "              title=\"Convert this dataframe to an interactive table.\"\n",
              "              style=\"display:none;\">\n",
              "        \n",
              "  <svg xmlns=\"http://www.w3.org/2000/svg\" height=\"24px\"viewBox=\"0 0 24 24\"\n",
              "       width=\"24px\">\n",
              "    <path d=\"M0 0h24v24H0V0z\" fill=\"none\"/>\n",
              "    <path d=\"M18.56 5.44l.94 2.06.94-2.06 2.06-.94-2.06-.94-.94-2.06-.94 2.06-2.06.94zm-11 1L8.5 8.5l.94-2.06 2.06-.94-2.06-.94L8.5 2.5l-.94 2.06-2.06.94zm10 10l.94 2.06.94-2.06 2.06-.94-2.06-.94-.94-2.06-.94 2.06-2.06.94z\"/><path d=\"M17.41 7.96l-1.37-1.37c-.4-.4-.92-.59-1.43-.59-.52 0-1.04.2-1.43.59L10.3 9.45l-7.72 7.72c-.78.78-.78 2.05 0 2.83L4 21.41c.39.39.9.59 1.41.59.51 0 1.02-.2 1.41-.59l7.78-7.78 2.81-2.81c.8-.78.8-2.07 0-2.86zM5.41 20L4 18.59l7.72-7.72 1.47 1.35L5.41 20z\"/>\n",
              "  </svg>\n",
              "      </button>\n",
              "      \n",
              "  <style>\n",
              "    .colab-df-container {\n",
              "      display:flex;\n",
              "      flex-wrap:wrap;\n",
              "      gap: 12px;\n",
              "    }\n",
              "\n",
              "    .colab-df-convert {\n",
              "      background-color: #E8F0FE;\n",
              "      border: none;\n",
              "      border-radius: 50%;\n",
              "      cursor: pointer;\n",
              "      display: none;\n",
              "      fill: #1967D2;\n",
              "      height: 32px;\n",
              "      padding: 0 0 0 0;\n",
              "      width: 32px;\n",
              "    }\n",
              "\n",
              "    .colab-df-convert:hover {\n",
              "      background-color: #E2EBFA;\n",
              "      box-shadow: 0px 1px 2px rgba(60, 64, 67, 0.3), 0px 1px 3px 1px rgba(60, 64, 67, 0.15);\n",
              "      fill: #174EA6;\n",
              "    }\n",
              "\n",
              "    [theme=dark] .colab-df-convert {\n",
              "      background-color: #3B4455;\n",
              "      fill: #D2E3FC;\n",
              "    }\n",
              "\n",
              "    [theme=dark] .colab-df-convert:hover {\n",
              "      background-color: #434B5C;\n",
              "      box-shadow: 0px 1px 3px 1px rgba(0, 0, 0, 0.15);\n",
              "      filter: drop-shadow(0px 1px 2px rgba(0, 0, 0, 0.3));\n",
              "      fill: #FFFFFF;\n",
              "    }\n",
              "  </style>\n",
              "\n",
              "      <script>\n",
              "        const buttonEl =\n",
              "          document.querySelector('#df-e57f1b02-f34f-4f96-920a-4c58c8934ad4 button.colab-df-convert');\n",
              "        buttonEl.style.display =\n",
              "          google.colab.kernel.accessAllowed ? 'block' : 'none';\n",
              "\n",
              "        async function convertToInteractive(key) {\n",
              "          const element = document.querySelector('#df-e57f1b02-f34f-4f96-920a-4c58c8934ad4');\n",
              "          const dataTable =\n",
              "            await google.colab.kernel.invokeFunction('convertToInteractive',\n",
              "                                                     [key], {});\n",
              "          if (!dataTable) return;\n",
              "\n",
              "          const docLinkHtml = 'Like what you see? Visit the ' +\n",
              "            '<a target=\"_blank\" href=https://colab.research.google.com/notebooks/data_table.ipynb>data table notebook</a>'\n",
              "            + ' to learn more about interactive tables.';\n",
              "          element.innerHTML = '';\n",
              "          dataTable['output_type'] = 'display_data';\n",
              "          await google.colab.output.renderOutput(dataTable, element);\n",
              "          const docLink = document.createElement('div');\n",
              "          docLink.innerHTML = docLinkHtml;\n",
              "          element.appendChild(docLink);\n",
              "        }\n",
              "      </script>\n",
              "    </div>\n",
              "  </div>\n",
              "  "
            ]
          },
          "metadata": {},
          "execution_count": 3
        }
      ],
      "source": [
        "df=pd.read_csv('/content/news_sentiment_data.csv')\n",
        "df.head()"
      ]
    },
    {
      "cell_type": "code",
      "source": [
        "df = df.drop(['Unnamed: 0','Unnamed: 0.1','date','articleid','compound_vader_score'], axis=1)\n",
        "df.head()"
      ],
      "metadata": {
        "colab": {
          "base_uri": "https://localhost:8080/",
          "height": 206
        },
        "id": "IIkff_sL3rEH",
        "outputId": "d9b695ae-6010-4743-f608-98fd768d125d"
      },
      "execution_count": 4,
      "outputs": [
        {
          "output_type": "execute_result",
          "data": {
            "text/plain": [
              "                                            headline  sentiment_class\n",
              "0  Banking Bill Negotiators Set Compromise --- Pl...                1\n",
              "1  Manager's Journal: Sniffing Out Drug Abusers I...                0\n",
              "2  Bank of Montreal, Royal Bank Profits Rose in 2...                1\n",
              "3               Battle Over Medical Costs Isn't Over                0\n",
              "4     Dow Falls 45.95, Late GM Surge Stanches Losses                0"
            ],
            "text/html": [
              "\n",
              "  <div id=\"df-15e80904-41ca-4ac4-b36b-a4fa75641200\">\n",
              "    <div class=\"colab-df-container\">\n",
              "      <div>\n",
              "<style scoped>\n",
              "    .dataframe tbody tr th:only-of-type {\n",
              "        vertical-align: middle;\n",
              "    }\n",
              "\n",
              "    .dataframe tbody tr th {\n",
              "        vertical-align: top;\n",
              "    }\n",
              "\n",
              "    .dataframe thead th {\n",
              "        text-align: right;\n",
              "    }\n",
              "</style>\n",
              "<table border=\"1\" class=\"dataframe\">\n",
              "  <thead>\n",
              "    <tr style=\"text-align: right;\">\n",
              "      <th></th>\n",
              "      <th>headline</th>\n",
              "      <th>sentiment_class</th>\n",
              "    </tr>\n",
              "  </thead>\n",
              "  <tbody>\n",
              "    <tr>\n",
              "      <th>0</th>\n",
              "      <td>Banking Bill Negotiators Set Compromise --- Pl...</td>\n",
              "      <td>1</td>\n",
              "    </tr>\n",
              "    <tr>\n",
              "      <th>1</th>\n",
              "      <td>Manager's Journal: Sniffing Out Drug Abusers I...</td>\n",
              "      <td>0</td>\n",
              "    </tr>\n",
              "    <tr>\n",
              "      <th>2</th>\n",
              "      <td>Bank of Montreal, Royal Bank Profits Rose in 2...</td>\n",
              "      <td>1</td>\n",
              "    </tr>\n",
              "    <tr>\n",
              "      <th>3</th>\n",
              "      <td>Battle Over Medical Costs Isn't Over</td>\n",
              "      <td>0</td>\n",
              "    </tr>\n",
              "    <tr>\n",
              "      <th>4</th>\n",
              "      <td>Dow Falls 45.95, Late GM Surge Stanches Losses</td>\n",
              "      <td>0</td>\n",
              "    </tr>\n",
              "  </tbody>\n",
              "</table>\n",
              "</div>\n",
              "      <button class=\"colab-df-convert\" onclick=\"convertToInteractive('df-15e80904-41ca-4ac4-b36b-a4fa75641200')\"\n",
              "              title=\"Convert this dataframe to an interactive table.\"\n",
              "              style=\"display:none;\">\n",
              "        \n",
              "  <svg xmlns=\"http://www.w3.org/2000/svg\" height=\"24px\"viewBox=\"0 0 24 24\"\n",
              "       width=\"24px\">\n",
              "    <path d=\"M0 0h24v24H0V0z\" fill=\"none\"/>\n",
              "    <path d=\"M18.56 5.44l.94 2.06.94-2.06 2.06-.94-2.06-.94-.94-2.06-.94 2.06-2.06.94zm-11 1L8.5 8.5l.94-2.06 2.06-.94-2.06-.94L8.5 2.5l-.94 2.06-2.06.94zm10 10l.94 2.06.94-2.06 2.06-.94-2.06-.94-.94-2.06-.94 2.06-2.06.94z\"/><path d=\"M17.41 7.96l-1.37-1.37c-.4-.4-.92-.59-1.43-.59-.52 0-1.04.2-1.43.59L10.3 9.45l-7.72 7.72c-.78.78-.78 2.05 0 2.83L4 21.41c.39.39.9.59 1.41.59.51 0 1.02-.2 1.41-.59l7.78-7.78 2.81-2.81c.8-.78.8-2.07 0-2.86zM5.41 20L4 18.59l7.72-7.72 1.47 1.35L5.41 20z\"/>\n",
              "  </svg>\n",
              "      </button>\n",
              "      \n",
              "  <style>\n",
              "    .colab-df-container {\n",
              "      display:flex;\n",
              "      flex-wrap:wrap;\n",
              "      gap: 12px;\n",
              "    }\n",
              "\n",
              "    .colab-df-convert {\n",
              "      background-color: #E8F0FE;\n",
              "      border: none;\n",
              "      border-radius: 50%;\n",
              "      cursor: pointer;\n",
              "      display: none;\n",
              "      fill: #1967D2;\n",
              "      height: 32px;\n",
              "      padding: 0 0 0 0;\n",
              "      width: 32px;\n",
              "    }\n",
              "\n",
              "    .colab-df-convert:hover {\n",
              "      background-color: #E2EBFA;\n",
              "      box-shadow: 0px 1px 2px rgba(60, 64, 67, 0.3), 0px 1px 3px 1px rgba(60, 64, 67, 0.15);\n",
              "      fill: #174EA6;\n",
              "    }\n",
              "\n",
              "    [theme=dark] .colab-df-convert {\n",
              "      background-color: #3B4455;\n",
              "      fill: #D2E3FC;\n",
              "    }\n",
              "\n",
              "    [theme=dark] .colab-df-convert:hover {\n",
              "      background-color: #434B5C;\n",
              "      box-shadow: 0px 1px 3px 1px rgba(0, 0, 0, 0.15);\n",
              "      filter: drop-shadow(0px 1px 2px rgba(0, 0, 0, 0.3));\n",
              "      fill: #FFFFFF;\n",
              "    }\n",
              "  </style>\n",
              "\n",
              "      <script>\n",
              "        const buttonEl =\n",
              "          document.querySelector('#df-15e80904-41ca-4ac4-b36b-a4fa75641200 button.colab-df-convert');\n",
              "        buttonEl.style.display =\n",
              "          google.colab.kernel.accessAllowed ? 'block' : 'none';\n",
              "\n",
              "        async function convertToInteractive(key) {\n",
              "          const element = document.querySelector('#df-15e80904-41ca-4ac4-b36b-a4fa75641200');\n",
              "          const dataTable =\n",
              "            await google.colab.kernel.invokeFunction('convertToInteractive',\n",
              "                                                     [key], {});\n",
              "          if (!dataTable) return;\n",
              "\n",
              "          const docLinkHtml = 'Like what you see? Visit the ' +\n",
              "            '<a target=\"_blank\" href=https://colab.research.google.com/notebooks/data_table.ipynb>data table notebook</a>'\n",
              "            + ' to learn more about interactive tables.';\n",
              "          element.innerHTML = '';\n",
              "          dataTable['output_type'] = 'display_data';\n",
              "          await google.colab.output.renderOutput(dataTable, element);\n",
              "          const docLink = document.createElement('div');\n",
              "          docLink.innerHTML = docLinkHtml;\n",
              "          element.appendChild(docLink);\n",
              "        }\n",
              "      </script>\n",
              "    </div>\n",
              "  </div>\n",
              "  "
            ]
          },
          "metadata": {},
          "execution_count": 4
        }
      ]
    },
    {
      "cell_type": "code",
      "execution_count": 5,
      "metadata": {
        "execution": {
          "iopub.execute_input": "2022-05-19T16:35:39.031865Z",
          "iopub.status.busy": "2022-05-19T16:35:39.031588Z",
          "iopub.status.idle": "2022-05-19T16:35:39.039225Z",
          "shell.execute_reply": "2022-05-19T16:35:39.038476Z",
          "shell.execute_reply.started": "2022-05-19T16:35:39.031832Z"
        },
        "id": "z9GvE5gMddp0",
        "outputId": "33da76fa-a56f-4bbc-8ca8-77a2e74358aa",
        "colab": {
          "base_uri": "https://localhost:8080/"
        }
      },
      "outputs": [
        {
          "output_type": "execute_result",
          "data": {
            "text/plain": [
              "(4846, 2)"
            ]
          },
          "metadata": {},
          "execution_count": 5
        }
      ],
      "source": [
        "df.shape"
      ]
    },
    {
      "cell_type": "code",
      "execution_count": 6,
      "metadata": {
        "execution": {
          "iopub.execute_input": "2022-05-19T16:35:55.425563Z",
          "iopub.status.busy": "2022-05-19T16:35:55.425274Z",
          "iopub.status.idle": "2022-05-19T16:35:55.429795Z",
          "shell.execute_reply": "2022-05-19T16:35:55.428778Z",
          "shell.execute_reply.started": "2022-05-19T16:35:55.425533Z"
        },
        "id": "4mm0iapaEzhI"
      },
      "outputs": [],
      "source": [
        "Pre_trained_model='roberta-base'"
      ]
    },
    {
      "cell_type": "code",
      "execution_count": 7,
      "metadata": {
        "execution": {
          "iopub.execute_input": "2022-05-19T16:35:58.856127Z",
          "iopub.status.busy": "2022-05-19T16:35:58.855239Z",
          "iopub.status.idle": "2022-05-19T16:36:03.317739Z",
          "shell.execute_reply": "2022-05-19T16:36:03.317104Z",
          "shell.execute_reply.started": "2022-05-19T16:35:58.856079Z"
        },
        "id": "NuXbQWzVOe5x"
      },
      "outputs": [],
      "source": [
        "from transformers import RobertaTokenizer"
      ]
    },
    {
      "cell_type": "code",
      "source": [
        "tokenizer = RobertaTokenizer.from_pretrained(Pre_trained_model)"
      ],
      "metadata": {
        "id": "JnV8kxoIjkrJ"
      },
      "execution_count": 8,
      "outputs": []
    },
    {
      "cell_type": "code",
      "execution_count": 9,
      "metadata": {
        "execution": {
          "iopub.execute_input": "2022-05-19T16:36:32.758855Z",
          "iopub.status.busy": "2022-05-19T16:36:32.758428Z",
          "iopub.status.idle": "2022-05-19T16:36:33.393610Z",
          "shell.execute_reply": "2022-05-19T16:36:33.392766Z",
          "shell.execute_reply.started": "2022-05-19T16:36:32.758810Z"
        },
        "id": "TgL-rufIdtqC"
      },
      "outputs": [],
      "source": [
        "token_lens=[]\n",
        "for content in df.headline:\n",
        "    tokens_content=tokenizer.encode(content,max_length=150,truncation=True)\n",
        "    token_lens.append(len(tokens_content))"
      ]
    },
    {
      "cell_type": "code",
      "execution_count": 10,
      "metadata": {
        "execution": {
          "iopub.execute_input": "2022-05-19T16:36:36.958487Z",
          "iopub.status.busy": "2022-05-19T16:36:36.957845Z",
          "iopub.status.idle": "2022-05-19T16:36:37.400295Z",
          "shell.execute_reply": "2022-05-19T16:36:37.399643Z",
          "shell.execute_reply.started": "2022-05-19T16:36:36.958450Z"
        },
        "id": "hfEzugC67gKP",
        "outputId": "a8c9335f-fc3c-4f77-8a9c-aee365bf3364",
        "colab": {
          "base_uri": "https://localhost:8080/",
          "height": 306
        }
      },
      "outputs": [
        {
          "output_type": "execute_result",
          "data": {
            "text/plain": [
              "Text(0.5, 0, 'Token count')"
            ]
          },
          "metadata": {},
          "execution_count": 10
        },
        {
          "output_type": "display_data",
          "data": {
            "text/plain": [
              "<Figure size 432x288 with 1 Axes>"
            ],
            "image/png": "[encoded data removed]"
          },
          "metadata": {
            "image/png": {
              "width": 406,
              "height": 272
            },
            "needs_background": "light"
          }
        }
      ],
      "source": [
        "#Plot the tokens\n",
        "sns.distplot(token_lens)\n",
        "plt.xlim([0,150])\n",
        "plt.xlabel('Token count')"
      ]
    },
    {
      "cell_type": "code",
      "execution_count": 11,
      "metadata": {
        "execution": {
          "iopub.execute_input": "2022-05-19T16:36:43.055671Z",
          "iopub.status.busy": "2022-05-19T16:36:43.055176Z",
          "iopub.status.idle": "2022-05-19T16:36:43.059381Z",
          "shell.execute_reply": "2022-05-19T16:36:43.058627Z",
          "shell.execute_reply.started": "2022-05-19T16:36:43.055630Z"
        },
        "id": "eThcaLu2BCMB"
      },
      "outputs": [],
      "source": [
        "Max_length=100"
      ]
    },
    {
      "cell_type": "code",
      "execution_count": 12,
      "metadata": {
        "execution": {
          "iopub.execute_input": "2022-05-19T16:37:17.769183Z",
          "iopub.status.busy": "2022-05-19T16:37:17.768922Z",
          "iopub.status.idle": "2022-05-19T16:37:17.776424Z",
          "shell.execute_reply": "2022-05-19T16:37:17.775773Z",
          "shell.execute_reply.started": "2022-05-19T16:37:17.769155Z"
        },
        "id": "JyLD8GVODJoe"
      },
      "outputs": [],
      "source": [
        "class reviews_headline(Dataset):\n",
        "\n",
        "    def __init__(self,reviews,targets,tokenizer,max_length):\n",
        "        self.reviews=reviews\n",
        "        self.targets=targets\n",
        "        self.tokenizer=tokenizer\n",
        "        self.max_length=max_length\n",
        "\n",
        "    def __len__(self):\n",
        "        return len(self.reviews)\n",
        "\n",
        "    def __getitem__(self,item):\n",
        "        review = str(self.reviews[item])\n",
        "        targets = self.targets[item]\n",
        "\n",
        "        encoding = self.tokenizer.encode_plus(\n",
        "            review,\n",
        "            max_length=Max_length,\n",
        "            add_special_tokens=True,\n",
        "            pad_to_max_length=True,\n",
        "            truncation=True,\n",
        "            return_attention_mask=True,\n",
        "            return_token_type_ids=False,\n",
        "            return_tensors='pt'\n",
        "           )\n",
        "        return {\n",
        "            'review_text':review,\n",
        "            'input_ids':encoding['input_ids'].flatten(),\n",
        "            'attention_mask':encoding['attention_mask'].flatten(),\n",
        "            'targets' : torch.tensor(targets,dtype=torch.long)\n",
        "        }"
      ]
    },
    {
      "cell_type": "code",
      "execution_count": 13,
      "metadata": {
        "execution": {
          "iopub.execute_input": "2022-05-19T16:37:26.365444Z",
          "iopub.status.busy": "2022-05-19T16:37:26.364747Z",
          "iopub.status.idle": "2022-05-19T16:37:26.376048Z",
          "shell.execute_reply": "2022-05-19T16:37:26.375025Z",
          "shell.execute_reply.started": "2022-05-19T16:37:26.365401Z"
        },
        "id": "sQszuRTDJe4r",
        "outputId": "e2b1d58d-4908-49d0-c808-7677b2e9c6cf",
        "colab": {
          "base_uri": "https://localhost:8080/"
        }
      },
      "outputs": [
        {
          "output_type": "stream",
          "name": "stdout",
          "text": [
            "Print the shape of datasets...\n",
            "Training dataset : (3876, 2)\n",
            "Testing dataset : (485, 2)\n",
            "Validation dataset : (485, 2)\n"
          ]
        }
      ],
      "source": [
        "df_train,df_test=train_test_split(df, test_size=0.2, random_state=42)\n",
        "df_valid,df_test = train_test_split(df_test,test_size=0.5,random_state=42)\n",
        "\n",
        "print('Print the shape of datasets...')\n",
        "print(f'Training dataset : {df_train.shape}')\n",
        "print(f'Testing dataset : {df_test.shape}')\n",
        "print(f'Validation dataset : {df_valid.shape}')"
      ]
    },
    {
      "cell_type": "code",
      "execution_count": 14,
      "metadata": {
        "execution": {
          "iopub.execute_input": "2022-05-19T16:38:22.957519Z",
          "iopub.status.busy": "2022-05-19T16:38:22.957235Z",
          "iopub.status.idle": "2022-05-19T16:38:22.965152Z",
          "shell.execute_reply": "2022-05-19T16:38:22.964456Z",
          "shell.execute_reply.started": "2022-05-19T16:38:22.957487Z"
        },
        "id": "9tObB8MzK46j"
      },
      "outputs": [],
      "source": [
        "batch_size=32\n",
        "def data_loader(df, tokenizer, max_length, batch):\n",
        "    ds=reviews_headline(\n",
        "      reviews=df.headline.to_numpy(),\n",
        "      targets=df.sentiment_class.to_numpy(),\n",
        "      tokenizer=tokenizer,\n",
        "      max_length=Max_length\n",
        "  )\n",
        "\n",
        "    return DataLoader(\n",
        "      ds,\n",
        "      batch_size=batch_size,\n",
        "      num_workers=4\n",
        "  )\n",
        "\n",
        "# Load datasets\n",
        "train_DataLoader=data_loader(df_train,tokenizer,Max_length,batch_size)\n",
        "test_DataLoader=data_loader(df_test,tokenizer,Max_length,batch_size)\n",
        "valid_DataLoader=data_loader(df_valid,tokenizer,Max_length,batch_size)"
      ]
    },
    {
      "cell_type": "code",
      "execution_count": 15,
      "metadata": {
        "execution": {
          "iopub.execute_input": "2022-05-19T16:38:26.429316Z",
          "iopub.status.busy": "2022-05-19T16:38:26.428627Z",
          "iopub.status.idle": "2022-05-19T16:38:26.610288Z",
          "shell.execute_reply": "2022-05-19T16:38:26.609540Z",
          "shell.execute_reply.started": "2022-05-19T16:38:26.429278Z"
        },
        "id": "6cMZ37F4UMPL",
        "outputId": "31f079ee-faf6-4e24-b488-45c547f14cc6",
        "colab": {
          "base_uri": "https://localhost:8080/"
        }
      },
      "outputs": [
        {
          "output_type": "execute_result",
          "data": {
            "text/plain": [
              "dict_keys(['review_text', 'input_ids', 'attention_mask', 'targets'])"
            ]
          },
          "metadata": {},
          "execution_count": 15
        }
      ],
      "source": [
        "data=next(iter(train_DataLoader))\n",
        "data.keys()"
      ]
    },
    {
      "cell_type": "code",
      "execution_count": 16,
      "metadata": {
        "execution": {
          "iopub.execute_input": "2022-05-19T16:38:32.200291Z",
          "iopub.status.busy": "2022-05-19T16:38:32.199417Z",
          "iopub.status.idle": "2022-05-19T16:38:32.206671Z",
          "shell.execute_reply": "2022-05-19T16:38:32.205858Z",
          "shell.execute_reply.started": "2022-05-19T16:38:32.200241Z"
        },
        "id": "LxgCkEbebxWI",
        "outputId": "db35c94c-bfa7-450b-8e68-6d4bfe9f2a80",
        "colab": {
          "base_uri": "https://localhost:8080/"
        }
      },
      "outputs": [
        {
          "output_type": "stream",
          "name": "stdout",
          "text": [
            "Shape of the data keys...\n",
            "Input_ids : torch.Size([32, 100])\n",
            "Attention_mask : torch.Size([32, 100])\n",
            "targets : torch.Size([32])\n"
          ]
        }
      ],
      "source": [
        "print('Shape of the data keys...')\n",
        "print(f\"Input_ids : {data['input_ids'].shape}\")\n",
        "print(f\"Attention_mask : {data['attention_mask'].shape}\")\n",
        "print(f\"targets : {data['targets'].shape}\")"
      ]
    },
    {
      "cell_type": "code",
      "source": [
        "roberta_model = RobertaModel.from_pretrained('roberta-base')"
      ],
      "metadata": {
        "colab": {
          "base_uri": "https://localhost:8080/"
        },
        "id": "2EJPA3y-kLpq",
        "outputId": "8e5ecda7-2a44-4c5c-c5da-cd30dccb4ead"
      },
      "execution_count": 17,
      "outputs": [
        {
          "output_type": "stream",
          "name": "stderr",
          "text": [
            "Some weights of the model checkpoint at roberta-base were not used when initializing RobertaModel: ['lm_head.decoder.weight', 'lm_head.layer_norm.bias', 'lm_head.dense.bias', 'lm_head.dense.weight', 'lm_head.bias', 'lm_head.layer_norm.weight']\n",
            "- This IS expected if you are initializing RobertaModel from the checkpoint of a model trained on another task or with another architecture (e.g. initializing a BertForSequenceClassification model from a BertForPreTraining model).\n",
            "- This IS NOT expected if you are initializing RobertaModel from the checkpoint of a model that you expect to be exactly identical (initializing a BertForSequenceClassification model from a BertForSequenceClassification model).\n"
          ]
        }
      ]
    },
    {
      "cell_type": "code",
      "execution_count": 18,
      "metadata": {
        "execution": {
          "iopub.execute_input": "2022-05-19T16:47:17.974245Z",
          "iopub.status.busy": "2022-05-19T16:47:17.973583Z",
          "iopub.status.idle": "2022-05-19T16:47:17.981210Z",
          "shell.execute_reply": "2022-05-19T16:47:17.980471Z",
          "shell.execute_reply.started": "2022-05-19T16:47:17.974204Z"
        },
        "id": "3saSV0VDAjdi"
      },
      "outputs": [],
      "source": [
        "class SentimentClassifier(nn.Module):\n",
        "    def __init__(self, n_classes):\n",
        "        super(SentimentClassifier, self).__init__()\n",
        "        self.roberta = RobertaModel.from_pretrained(Pre_trained_model,return_dict=False)\n",
        "        self.drop = nn.Dropout(p=0.5)\n",
        "        self.out = nn.Linear(self.roberta.config.hidden_size, n_classes)\n",
        "    def forward(self, input_ids, attention_mask):\n",
        "        _, pooled_output = self.roberta(\n",
        "          input_ids=input_ids,\n",
        "          attention_mask=attention_mask\n",
        "        )\n",
        "        output = self.drop(pooled_output)\n",
        "        return self.out(output)"
      ]
    },
    {
      "cell_type": "code",
      "execution_count": 19,
      "metadata": {
        "execution": {
          "iopub.execute_input": "2022-05-19T16:47:26.666795Z",
          "iopub.status.busy": "2022-05-19T16:47:26.666524Z",
          "iopub.status.idle": "2022-05-19T16:47:28.634684Z",
          "shell.execute_reply": "2022-05-19T16:47:28.633947Z",
          "shell.execute_reply.started": "2022-05-19T16:47:26.666763Z"
        },
        "id": "lonuc6gVB-Kt",
        "colab": {
          "base_uri": "https://localhost:8080/"
        },
        "outputId": "7fd25a0e-ba55-4a62-f92d-aca9df782d51"
      },
      "outputs": [
        {
          "output_type": "stream",
          "name": "stderr",
          "text": [
            "Some weights of the model checkpoint at roberta-base were not used when initializing RobertaModel: ['lm_head.decoder.weight', 'lm_head.layer_norm.bias', 'lm_head.dense.bias', 'lm_head.dense.weight', 'lm_head.bias', 'lm_head.layer_norm.weight']\n",
            "- This IS expected if you are initializing RobertaModel from the checkpoint of a model trained on another task or with another architecture (e.g. initializing a BertForSequenceClassification model from a BertForPreTraining model).\n",
            "- This IS NOT expected if you are initializing RobertaModel from the checkpoint of a model that you expect to be exactly identical (initializing a BertForSequenceClassification model from a BertForSequenceClassification model).\n"
          ]
        }
      ],
      "source": [
        "model = SentimentClassifier(len(df.sentiment_class))         #Create an instance / object\n",
        "model = model.to(device)                              # Move instance to GPU           "
      ]
    },
    {
      "cell_type": "code",
      "execution_count": 20,
      "metadata": {
        "execution": {
          "iopub.execute_input": "2022-05-19T16:47:31.951054Z",
          "iopub.status.busy": "2022-05-19T16:47:31.950295Z",
          "iopub.status.idle": "2022-05-19T16:47:31.958579Z",
          "shell.execute_reply": "2022-05-19T16:47:31.957793Z",
          "shell.execute_reply.started": "2022-05-19T16:47:31.951005Z"
        },
        "id": "x5lENsyaDrQY",
        "outputId": "e6f7f8dc-7985-45c9-a2bb-c21052e872c6",
        "colab": {
          "base_uri": "https://localhost:8080/"
        }
      },
      "outputs": [
        {
          "output_type": "stream",
          "name": "stdout",
          "text": [
            "torch.Size([32, 100])\n",
            "torch.Size([32, 100])\n"
          ]
        }
      ],
      "source": [
        "input_ids = data['input_ids'].to(device)\n",
        "attention_mask = data['attention_mask'].to(device)\n",
        "print(input_ids.shape)      # batch size x seq length\n",
        "print(attention_mask.shape) # batch size x seq length"
      ]
    },
    {
      "cell_type": "code",
      "execution_count": 21,
      "metadata": {
        "execution": {
          "iopub.execute_input": "2022-05-19T16:47:34.641795Z",
          "iopub.status.busy": "2022-05-19T16:47:34.641033Z",
          "iopub.status.idle": "2022-05-19T16:47:34.652393Z",
          "shell.execute_reply": "2022-05-19T16:47:34.651669Z",
          "shell.execute_reply.started": "2022-05-19T16:47:34.641754Z"
        },
        "id": "Dw8XhH-kj4JE"
      },
      "outputs": [],
      "source": [
        "epochs=5\n",
        "optimizer=AdamW(model.parameters(),lr=2e-5,correct_bias=False)\n",
        "total_steps=len(train_DataLoader)*epochs\n",
        "\n",
        "scheduler=get_linear_schedule_with_warmup(\n",
        "    optimizer,\n",
        "    num_warmup_steps=0,\n",
        "    num_training_steps=total_steps\n",
        ")\n",
        "\n",
        "loss_fn=nn.CrossEntropyLoss().to(device)"
      ]
    },
    {
      "cell_type": "code",
      "execution_count": 22,
      "metadata": {
        "execution": {
          "iopub.execute_input": "2022-05-19T16:47:37.394539Z",
          "iopub.status.busy": "2022-05-19T16:47:37.394284Z",
          "iopub.status.idle": "2022-05-19T16:47:37.403078Z",
          "shell.execute_reply": "2022-05-19T16:47:37.402003Z",
          "shell.execute_reply.started": "2022-05-19T16:47:37.394509Z"
        },
        "id": "WKTWo3TdjKep"
      },
      "outputs": [],
      "source": [
        "def train(\n",
        "  model,\n",
        "  data_loader,\n",
        "  loss_fn,\n",
        "  optimizer,\n",
        "  device,\n",
        "  scheduler,\n",
        "  n_observations\n",
        "):\n",
        "    model = model.train()\n",
        "    losses = []\n",
        "    correct_predictions = 0\n",
        "    for d in data_loader:\n",
        "        input_ids = d[\"input_ids\"].to(device)\n",
        "        attention_mask = d[\"attention_mask\"].to(device)\n",
        "        targets = d[\"targets\"].to(device)\n",
        "        #Feed data to RoBERTa model\n",
        "        outputs = model(\n",
        "          input_ids=input_ids,\n",
        "          attention_mask=attention_mask\n",
        "        )\n",
        "        _, preds = torch.max(outputs, dim=1)\n",
        "        loss = loss_fn(outputs, targets)\n",
        "        correct_predictions += torch.sum(preds == targets)\n",
        "        losses.append(loss.item())\n",
        "        loss.backward()\n",
        "        nn.utils.clip_grad_norm_(model.parameters(), max_norm=1.0)     # Clip gradients to avoid exploding gradient problem\n",
        "        optimizer.step()\n",
        "        scheduler.step()\n",
        "        optimizer.zero_grad()\n",
        "    return correct_predictions.double() / n_observations, np.mean(losses)"
      ]
    },
    {
      "cell_type": "code",
      "execution_count": 23,
      "metadata": {
        "execution": {
          "iopub.execute_input": "2022-05-19T16:47:38.087297Z",
          "iopub.status.busy": "2022-05-19T16:47:38.086691Z",
          "iopub.status.idle": "2022-05-19T16:47:38.094009Z",
          "shell.execute_reply": "2022-05-19T16:47:38.093342Z",
          "shell.execute_reply.started": "2022-05-19T16:47:38.087264Z"
        },
        "id": "V6P6DHrPnJy_"
      },
      "outputs": [],
      "source": [
        "def eval_model(model, data_loader,device,loss_fn, n_observations):\n",
        "    model = model.eval()\n",
        "    losses = []\n",
        "    correct_predictions = 0\n",
        "    with torch.no_grad():\n",
        "        for d in data_loader:\n",
        "            input_ids = d[\"input_ids\"].to(device)\n",
        "            attention_mask = d[\"attention_mask\"].to(device)\n",
        "            targets = d[\"targets\"].to(device)\n",
        "            # Feed data to RoBERTa model\n",
        "            outputs = model(\n",
        "                input_ids=input_ids,\n",
        "                attention_mask=attention_mask\n",
        "            )\n",
        "            _, preds = torch.max(outputs, dim=1)\n",
        "            loss = loss_fn(outputs, targets)\n",
        "            correct_predictions += torch.sum(preds == targets)\n",
        "            losses.append(loss.item())\n",
        "    return correct_predictions.double() / n_observations, np.mean(losses)"
      ]
    },
    {
      "cell_type": "code",
      "execution_count": 24,
      "metadata": {
        "execution": {
          "iopub.execute_input": "2022-05-19T16:49:49.437638Z",
          "iopub.status.busy": "2022-05-19T16:49:49.437059Z",
          "iopub.status.idle": "2022-05-19T16:49:49.442233Z",
          "shell.execute_reply": "2022-05-19T16:49:49.441312Z",
          "shell.execute_reply.started": "2022-05-19T16:49:49.437599Z"
        },
        "id": "CGDxVTq40G27"
      },
      "outputs": [],
      "source": [
        "import os\n",
        "os.environ[\"TOKENIZERS_PARALLELISM\"] = \"false\""
      ]
    },
    {
      "cell_type": "code",
      "execution_count": 25,
      "metadata": {
        "execution": {
          "iopub.execute_input": "2022-05-19T16:49:51.996464Z",
          "iopub.status.busy": "2022-05-19T16:49:51.996182Z",
          "iopub.status.idle": "2022-05-19T16:53:07.828514Z",
          "shell.execute_reply": "2022-05-19T16:53:07.827551Z",
          "shell.execute_reply.started": "2022-05-19T16:49:51.996435Z"
        },
        "id": "2WpymyiEnTA3",
        "outputId": "cd6023ed-fd7c-45f0-d87f-5f4a5d460b39",
        "colab": {
          "base_uri": "https://localhost:8080/"
        }
      },
      "outputs": [
        {
          "output_type": "stream",
          "name": "stdout",
          "text": [
            "Epoch 1/5\n",
            "----------\n",
            "Train loss 1.4220573975414526 accuracy 0.5103199174406604\n",
            "Validation  loss 0.5509532522410154 accuracy 0.7587628865979381\n",
            "\n",
            "Epoch 2/5\n",
            "----------\n",
            "Train loss 0.4948767008351498 accuracy 0.7801857585139318\n",
            "Validation  loss 0.31789007876068354 accuracy 0.865979381443299\n",
            "\n",
            "Epoch 3/5\n",
            "----------\n",
            "Train loss 0.281336743079248 accuracy 0.8924148606811145\n",
            "Validation  loss 0.31357666989788413 accuracy 0.8721649484536083\n",
            "\n",
            "Epoch 4/5\n",
            "----------\n",
            "Train loss 0.19974117532189264 accuracy 0.9308565531475748\n",
            "Validation  loss 0.3104839716106653 accuracy 0.8907216494845361\n",
            "\n",
            "Epoch 5/5\n",
            "----------\n",
            "Train loss 0.1371212812507006 accuracy 0.9574303405572755\n",
            "Validation  loss 0.30879359832033515 accuracy 0.9051546391752577\n",
            "\n",
            "CPU times: user 5min 24s, sys: 11.3 s, total: 5min 35s\n",
            "Wall time: 5min 45s\n"
          ]
        }
      ],
      "source": [
        "%%time\n",
        "history = defaultdict(list)\n",
        "best_accuracy = 0\n",
        "for epoch in range(epochs):\n",
        "    print(f'Epoch {epoch + 1}/{epochs}')\n",
        "    print('-' * 10)\n",
        "    train_acc, train_loss = train(\n",
        "        model,\n",
        "        train_DataLoader,\n",
        "        loss_fn,\n",
        "        optimizer,\n",
        "        device,\n",
        "        scheduler,\n",
        "        len(df_train)\n",
        "      )\n",
        "    print(f'Train loss {train_loss} accuracy {train_acc}')\n",
        "    val_acc, val_loss = eval_model(\n",
        "        model,\n",
        "        valid_DataLoader,\n",
        "        device,\n",
        "        loss_fn,\n",
        "        len(df_valid)\n",
        "      )\n",
        "    print(f'Validation  loss {val_loss} accuracy {val_acc}')\n",
        "    print()\n",
        "    history['train_acc'].append(train_acc)\n",
        "    history['train_loss'].append(train_loss)\n",
        "    history['val_acc'].append(val_acc)\n",
        "    history['val_loss'].append(val_loss)\n",
        "    if val_acc > best_accuracy:\n",
        "        torch.save(model.state_dict(), 'best_model_state.bin')\n",
        "        best_accuracy = val_acc"
      ]
    },
    {
      "cell_type": "code",
      "execution_count": 26,
      "metadata": {
        "execution": {
          "iopub.execute_input": "2022-05-19T17:05:54.603560Z",
          "iopub.status.busy": "2022-05-19T17:05:54.602927Z",
          "iopub.status.idle": "2022-05-19T17:05:54.615267Z",
          "shell.execute_reply": "2022-05-19T17:05:54.614474Z",
          "shell.execute_reply.started": "2022-05-19T17:05:54.603520Z"
        },
        "colab": {
          "base_uri": "https://localhost:8080/"
        },
        "id": "MXr573gV0G27",
        "outputId": "f55e5e93-4e81-4d31-ba1c-68d9707cc17a"
      },
      "outputs": [
        {
          "output_type": "execute_result",
          "data": {
            "text/plain": [
              "[tensor(0.5103, device='cuda:0', dtype=torch.float64),\n",
              " tensor(0.7802, device='cuda:0', dtype=torch.float64),\n",
              " tensor(0.8924, device='cuda:0', dtype=torch.float64),\n",
              " tensor(0.9309, device='cuda:0', dtype=torch.float64),\n",
              " tensor(0.9574, device='cuda:0', dtype=torch.float64)]"
            ]
          },
          "metadata": {},
          "execution_count": 26
        }
      ],
      "source": [
        "history['train_acc']"
      ]
    },
    {
      "cell_type": "code",
      "source": [
        "history['train_acc'][0]"
      ],
      "metadata": {
        "colab": {
          "base_uri": "https://localhost:8080/"
        },
        "id": "EhT1kkAu7fAA",
        "outputId": "fc3a3c10-2d0f-4572-8a04-6f946e901cd6"
      },
      "execution_count": 27,
      "outputs": [
        {
          "output_type": "execute_result",
          "data": {
            "text/plain": [
              "tensor(0.5103, device='cuda:0', dtype=torch.float64)"
            ]
          },
          "metadata": {},
          "execution_count": 27
        }
      ]
    },
    {
      "cell_type": "code",
      "source": [
        "history['train_acc'][0].item()"
      ],
      "metadata": {
        "colab": {
          "base_uri": "https://localhost:8080/"
        },
        "id": "klXAfy728rNp",
        "outputId": "5d6ad229-b1b5-46c0-fc13-5ecc4e9419f6"
      },
      "execution_count": 28,
      "outputs": [
        {
          "output_type": "execute_result",
          "data": {
            "text/plain": [
              "0.5103199174406604"
            ]
          },
          "metadata": {},
          "execution_count": 28
        }
      ]
    },
    {
      "cell_type": "code",
      "source": [
        "train_acc = []\n",
        "train_loss = []\n",
        "val_acc = []\n",
        "val_loss = []\n",
        "for i in range(5):\n",
        "  train_acc.append(history['train_acc'][i].item())\n",
        "  train_loss.append(history['train_loss'][i].item())\n",
        "  val_acc.append(history['val_acc'][i].item())\n",
        "  val_loss.append(history['val_loss'][i].item())\n",
        "print(train_acc)\n",
        "print(train_loss)\n",
        "print(val_acc)\n",
        "print(val_loss)"
      ],
      "metadata": {
        "colab": {
          "base_uri": "https://localhost:8080/"
        },
        "id": "HhzFbjIP98e9",
        "outputId": "dd0ccd65-b619-40a2-a9da-ae75d1bcf322"
      },
      "execution_count": 29,
      "outputs": [
        {
          "output_type": "stream",
          "name": "stdout",
          "text": [
            "[0.5103199174406604, 0.7801857585139318, 0.8924148606811145, 0.9308565531475748, 0.9574303405572755]\n",
            "[1.4220573975414526, 0.4948767008351498, 0.281336743079248, 0.19974117532189264, 0.1371212812507006]\n",
            "[0.7587628865979381, 0.865979381443299, 0.8721649484536083, 0.8907216494845361, 0.9051546391752577]\n",
            "[0.5509532522410154, 0.31789007876068354, 0.31357666989788413, 0.3104839716106653, 0.30879359832033515]\n"
          ]
        }
      ]
    },
    {
      "cell_type": "code",
      "execution_count": 30,
      "metadata": {
        "colab": {
          "base_uri": "https://localhost:8080/",
          "height": 323
        },
        "id": "DT8W6YFG0G28",
        "outputId": "5bf48d91-253a-4eb6-cc08-d8835634c087"
      },
      "outputs": [
        {
          "output_type": "execute_result",
          "data": {
            "text/plain": [
              "<matplotlib.legend.Legend at 0x7faf1ee94690>"
            ]
          },
          "metadata": {},
          "execution_count": 30
        },
        {
          "output_type": "display_data",
          "data": {
            "text/plain": [
              "<Figure size 432x288 with 1 Axes>"
            ],
            "image/png": "[encoded data removed]"
          },
          "metadata": {
            "image/png": {
              "width": 397,
              "height": 289
            },
            "needs_background": "light"
          }
        }
      ],
      "source": [
        "plt.plot(train_acc, label='train accuracy')\n",
        "plt.plot(val_acc, label='validation accuracy')\n",
        "plt.title('Training and Validation Accuracy')\n",
        "plt.ylabel('Accuracy')\n",
        "plt.xlabel('Epoch')\n",
        "plt.legend()"
      ]
    },
    {
      "cell_type": "code",
      "source": [
        "plt.plot(train_loss, label='train loss')\n",
        "plt.plot(val_loss, label='validation loss')\n",
        "plt.title('Training and Validation Loss')\n",
        "plt.ylabel('Loss')\n",
        "plt.xlabel('Epoch')\n",
        "plt.legend()"
      ],
      "metadata": {
        "colab": {
          "base_uri": "https://localhost:8080/",
          "height": 323
        },
        "id": "YKh2yoo46CdT",
        "outputId": "57983f77-0b39-4bf3-b468-0284bdf3fd67"
      },
      "execution_count": 31,
      "outputs": [
        {
          "output_type": "execute_result",
          "data": {
            "text/plain": [
              "<matplotlib.legend.Legend at 0x7faf1e3e8490>"
            ]
          },
          "metadata": {},
          "execution_count": 31
        },
        {
          "output_type": "display_data",
          "data": {
            "text/plain": [
              "<Figure size 432x288 with 1 Axes>"
            ],
            "image/png": "[encoded data removed]"
          },
          "metadata": {
            "image/png": {
              "width": 397,
              "height": 289
            },
            "needs_background": "light"
          }
        }
      ]
    },
    {
      "cell_type": "code",
      "execution_count": 32,
      "metadata": {
        "execution": {
          "iopub.execute_input": "2022-05-19T17:06:04.845787Z",
          "iopub.status.busy": "2022-05-19T17:06:04.845095Z",
          "iopub.status.idle": "2022-05-19T17:06:06.641977Z",
          "shell.execute_reply": "2022-05-19T17:06:06.641009Z",
          "shell.execute_reply.started": "2022-05-19T17:06:04.845736Z"
        },
        "id": "Rv8baMsxFo8k"
      },
      "outputs": [],
      "source": [
        "test_acc, _ = eval_model(\n",
        "  model,\n",
        "  test_DataLoader,\n",
        "  device,\n",
        "  loss_fn,\n",
        "  len(df_test)\n",
        ")"
      ]
    },
    {
      "cell_type": "code",
      "execution_count": 33,
      "metadata": {
        "execution": {
          "iopub.execute_input": "2022-05-19T17:06:19.850380Z",
          "iopub.status.busy": "2022-05-19T17:06:19.849841Z",
          "iopub.status.idle": "2022-05-19T17:06:19.857249Z",
          "shell.execute_reply": "2022-05-19T17:06:19.856432Z",
          "shell.execute_reply.started": "2022-05-19T17:06:19.850331Z"
        },
        "id": "fQXaR1XXGHc4",
        "outputId": "1e96a925-390f-446b-bfde-3ebdbe0a076a",
        "colab": {
          "base_uri": "https://localhost:8080/"
        }
      },
      "outputs": [
        {
          "output_type": "execute_result",
          "data": {
            "text/plain": [
              "0.8824742268041237"
            ]
          },
          "metadata": {},
          "execution_count": 33
        }
      ],
      "source": [
        "test_acc.item()"
      ]
    },
    {
      "cell_type": "code",
      "execution_count": 34,
      "metadata": {
        "execution": {
          "iopub.execute_input": "2022-05-19T17:06:22.303903Z",
          "iopub.status.busy": "2022-05-19T17:06:22.303635Z",
          "iopub.status.idle": "2022-05-19T17:06:22.312461Z",
          "shell.execute_reply": "2022-05-19T17:06:22.311638Z",
          "shell.execute_reply.started": "2022-05-19T17:06:22.303873Z"
        },
        "id": "sVy4mBJXuyPN"
      },
      "outputs": [],
      "source": [
        "def get_predictions(model, data_loader):\n",
        "    model = model.eval()\n",
        "    review_texts = []\n",
        "    predictions = []\n",
        "    prediction_probs = []\n",
        "    real_values = []\n",
        "\n",
        "    with torch.no_grad():\n",
        "        for d in data_loader:\n",
        "            texts = d[\"review_text\"]\n",
        "            input_ids = d[\"input_ids\"].to(device)\n",
        "            attention_mask = d[\"attention_mask\"].to(device)\n",
        "            targets = d[\"targets\"].to(device)\n",
        "            outputs = model(\n",
        "                input_ids=input_ids,\n",
        "                attention_mask=attention_mask\n",
        "            )\n",
        "            _, preds = torch.max(outputs, dim=1)\n",
        "            review_texts.extend(texts)\n",
        "            predictions.extend(preds)\n",
        "            prediction_probs.extend(outputs)\n",
        "            real_values.extend(targets)\n",
        "\n",
        "    predictions = torch.stack(predictions).cpu()\n",
        "    prediction_probs = torch.stack(prediction_probs).cpu()\n",
        "    real_values = torch.stack(real_values).cpu()\n",
        "    return review_texts, predictions, prediction_probs, real_values"
      ]
    },
    {
      "cell_type": "code",
      "execution_count": 35,
      "metadata": {
        "execution": {
          "iopub.execute_input": "2022-05-19T17:06:24.269927Z",
          "iopub.status.busy": "2022-05-19T17:06:24.269458Z",
          "iopub.status.idle": "2022-05-19T17:06:26.014288Z",
          "shell.execute_reply": "2022-05-19T17:06:26.013383Z",
          "shell.execute_reply.started": "2022-05-19T17:06:24.269887Z"
        },
        "id": "LPv0RdZ5v3ya"
      },
      "outputs": [],
      "source": [
        "y_review_texts, y_pred, y_pred_probs, y_test = get_predictions(\n",
        "  model,\n",
        "  test_DataLoader\n",
        ")"
      ]
    },
    {
      "cell_type": "code",
      "execution_count": 36,
      "metadata": {
        "execution": {
          "iopub.execute_input": "2022-05-19T17:06:50.257382Z",
          "iopub.status.busy": "2022-05-19T17:06:50.257107Z",
          "iopub.status.idle": "2022-05-19T17:06:50.265968Z",
          "shell.execute_reply": "2022-05-19T17:06:50.265170Z",
          "shell.execute_reply.started": "2022-05-19T17:06:50.257352Z"
        },
        "colab": {
          "base_uri": "https://localhost:8080/"
        },
        "id": "LOpCLQVv0G29",
        "outputId": "379d0a08-6587-4113-bc61-c5016babea1f"
      },
      "outputs": [
        {
          "output_type": "execute_result",
          "data": {
            "text/plain": [
              "Index(['headline', 'sentiment_class'], dtype='object')"
            ]
          },
          "metadata": {},
          "execution_count": 36
        }
      ],
      "source": [
        "df.columns"
      ]
    },
    {
      "cell_type": "code",
      "execution_count": 37,
      "metadata": {
        "execution": {
          "iopub.execute_input": "2022-05-19T17:07:35.878335Z",
          "iopub.status.busy": "2022-05-19T17:07:35.878072Z",
          "iopub.status.idle": "2022-05-19T17:07:35.891183Z",
          "shell.execute_reply": "2022-05-19T17:07:35.890368Z",
          "shell.execute_reply.started": "2022-05-19T17:07:35.878307Z"
        },
        "id": "GFRfQj2ByCn_",
        "outputId": "bd37f6cc-8a48-419c-ec65-dc587127af29",
        "colab": {
          "base_uri": "https://localhost:8080/"
        }
      },
      "outputs": [
        {
          "output_type": "stream",
          "name": "stdout",
          "text": [
            "              precision    recall  f1-score   support\n",
            "\n",
            "           0       0.85      0.89      0.87       218\n",
            "           1       0.91      0.87      0.89       267\n",
            "\n",
            "    accuracy                           0.88       485\n",
            "   macro avg       0.88      0.88      0.88       485\n",
            "weighted avg       0.88      0.88      0.88       485\n",
            "\n"
          ]
        }
      ],
      "source": [
        "class_report=classification_report(y_test, y_pred)\n",
        "print(class_report)"
      ]
    },
    {
      "cell_type": "code",
      "execution_count": 38,
      "metadata": {
        "execution": {
          "iopub.execute_input": "2022-05-19T17:07:47.837418Z",
          "iopub.status.busy": "2022-05-19T17:07:47.837150Z",
          "iopub.status.idle": "2022-05-19T17:07:48.110359Z",
          "shell.execute_reply": "2022-05-19T17:07:48.109655Z",
          "shell.execute_reply.started": "2022-05-19T17:07:47.837389Z"
        },
        "id": "Nyl3LWN7QFAu",
        "outputId": "7a69db8f-b6a2-4f60-e7ce-772356c27c57",
        "colab": {
          "base_uri": "https://localhost:8080/",
          "height": 289
        }
      },
      "outputs": [
        {
          "output_type": "display_data",
          "data": {
            "text/plain": [
              "<Figure size 432x288 with 1 Axes>"
            ],
            "image/png": "[encoded data removed]"
          },
          "metadata": {
            "image/png": {
              "width": 397,
              "height": 272
            },
            "needs_background": "light"
          }
        }
      ],
      "source": [
        "# calculate model precision-recall curve\n",
        "precision, recall, _ = precision_recall_curve(y_test, y_pred)\n",
        "# plot the model precision-recall curve\n",
        "plt.plot(recall, precision, marker='.', label='RoBERTa')\n",
        "# axis labels\n",
        "plt.xlabel('Recall')\n",
        "plt.ylabel('Precision')\n",
        "# show the legend\n",
        "plt.legend()\n",
        "# show the plot\n",
        "plt.show()"
      ]
    },
    {
      "cell_type": "code",
      "execution_count": 39,
      "metadata": {
        "execution": {
          "iopub.execute_input": "2022-05-19T17:07:58.784616Z",
          "iopub.status.busy": "2022-05-19T17:07:58.783956Z",
          "iopub.status.idle": "2022-05-19T17:07:58.790854Z",
          "shell.execute_reply": "2022-05-19T17:07:58.790167Z",
          "shell.execute_reply.started": "2022-05-19T17:07:58.784579Z"
        },
        "id": "lVNRAQtBN5TV",
        "outputId": "5eb84595-d320-4349-f9ec-59d0fd9c2de9",
        "colab": {
          "base_uri": "https://localhost:8080/"
        }
      },
      "outputs": [
        {
          "output_type": "stream",
          "name": "stdout",
          "text": [
            "PR AUC_score: 0.926\n"
          ]
        }
      ],
      "source": [
        "#Calculate AUC_score for PR curve\n",
        "auc_score = auc(recall, precision)\n",
        "print('PR AUC_score: %.3f' % auc_score)"
      ]
    },
    {
      "cell_type": "code",
      "execution_count": 40,
      "metadata": {
        "execution": {
          "iopub.execute_input": "2022-05-19T17:10:50.380936Z",
          "iopub.status.busy": "2022-05-19T17:10:50.380491Z",
          "iopub.status.idle": "2022-05-19T17:10:51.137352Z",
          "shell.execute_reply": "2022-05-19T17:10:51.136457Z",
          "shell.execute_reply.started": "2022-05-19T17:10:50.380902Z"
        },
        "id": "ZwvaOkES7u_U"
      },
      "outputs": [],
      "source": [
        "path=\"./Sentiment_Analysis_RoBerta.bin\"\n",
        "torch.save(model.state_dict(),path)"
      ]
    }
  ],
  "metadata": {
    "kernelspec": {
      "display_name": "Python 3",
      "language": "python",
      "name": "python3"
    },
    "language_info": {
      "codemirror_mode": {
        "name": "ipython",
        "version": 3
      },
      "file_extension": ".py",
      "mimetype": "text/x-python",
      "name": "python",
      "nbconvert_exporter": "python",
      "pygments_lexer": "ipython3",
      "version": "3.7.3"
    },
    "colab": {
      "name": "RoBERTa_news_sentiments.ipynb",
      "provenance": [],
      "include_colab_link": true
    },
    "accelerator": "GPU"
  },
  "nbformat": 4,
  "nbformat_minor": 0
}